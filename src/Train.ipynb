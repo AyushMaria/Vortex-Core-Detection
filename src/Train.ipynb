{
  "nbformat": 4,
  "nbformat_minor": 0,
  "metadata": {
    "colab": {
      "name": "Train.ipynb",
      "provenance": [],
      "collapsed_sections": [],
      "authorship_tag": "ABX9TyNyzVsBX2RlP0KcnLQ84ln5",
      "include_colab_link": true
    },
    "kernelspec": {
      "name": "python3",
      "display_name": "Python 3"
    },
    "language_info": {
      "name": "python"
    }
  },
  "cells": [
    {
      "cell_type": "markdown",
      "metadata": {
        "id": "view-in-github",
        "colab_type": "text"
      },
      "source": [
        "<a href=\"https://colab.research.google.com/github/AyushMaria/Vortex-Detection/blob/main/Train.ipynb\" target=\"_parent\"><img src=\"https://colab.research.google.com/assets/colab-badge.svg\" alt=\"Open In Colab\"/></a>"
      ]
    },
    {
      "cell_type": "code",
      "execution_count": 6,
      "metadata": {
        "id": "2cGFLIshZ1Zm"
      },
      "outputs": [],
      "source": [
        "# importing linear algebra\n",
        "import numpy as np \n",
        "\n",
        "# importing tools for data processing, CSV file I/O (e.g. pd.read_csv)\n",
        "import pandas as pd \n",
        "\n",
        "# importing the tools to call google drive\n",
        "from google.colab import drive\n",
        "\n",
        "# importing seaborn\n",
        "import seaborn as sns\n",
        "\n",
        "from sklearn.model_selection import GridSearchCV\n",
        "\n",
        "# import train_test_split function\n",
        "from sklearn.model_selection import train_test_split\n",
        "\n",
        "# import the Random Forest Classifier\n",
        "from sklearn.ensemble import RandomForestClassifier\n",
        "\n",
        "# Import the AdaBoost classifier\n",
        "from sklearn.ensemble import AdaBoostClassifier\n",
        "\n",
        "# Import the XGBoost Classifier \n",
        "from xgboost import XGBClassifier\n",
        "\n",
        "# Import joblib to save machine learning model\n",
        "import joblib\n",
        "\n",
        "# Import the Voting CLassifier\n",
        "from sklearn.ensemble import VotingClassifier\n",
        "\n",
        "# Importing the necessary tools to check how the clasifiers performed\n",
        "from sklearn.metrics import classification_report\n",
        "from sklearn.metrics import accuracy_score\n",
        "from sklearn.metrics import confusion_matrix \n",
        "\n",
        "# import the required metrics to plot validation curve\n",
        "from sklearn.model_selection import validation_curve\n",
        "\n",
        "# import the plotting library to visualize our learning curve\n",
        "import matplotlib.pyplot as plt"
      ]
    },
    {
      "cell_type": "code",
      "source": [
        "# mount our directory\n",
        "mount='/content/gdrive'\n",
        "drive.mount(mount, force_remount=True)"
      ],
      "metadata": {
        "colab": {
          "base_uri": "https://localhost:8080/"
        },
        "id": "8rNoaGSnZ5Cc",
        "outputId": "69185c1e-58cb-4f9e-dad7-0c67227c2b28"
      },
      "execution_count": 7,
      "outputs": [
        {
          "output_type": "stream",
          "name": "stdout",
          "text": [
            "Mounted at /content/gdrive\n"
          ]
        }
      ]
    },
    {
      "cell_type": "code",
      "source": [
        "# Switch to the directory on the VM for our purposes\n",
        "drive_root=mount + '/My Drive/Colab Notebooks/Object Detection'\n",
        "%cd $drive_root\n",
        "%pwd"
      ],
      "metadata": {
        "colab": {
          "base_uri": "https://localhost:8080/",
          "height": 53
        },
        "id": "SorlL28MaR-x",
        "outputId": "6fb31e0c-8e8d-4d4d-d047-9b4ac055e303"
      },
      "execution_count": 8,
      "outputs": [
        {
          "output_type": "stream",
          "name": "stdout",
          "text": [
            "/content/gdrive/My Drive/Colab Notebooks/Object Detection\n"
          ]
        },
        {
          "output_type": "execute_result",
          "data": {
            "text/plain": [
              "'/content/gdrive/My Drive/Colab Notebooks/Object Detection'"
            ],
            "application/vnd.google.colaboratory.intrinsic+json": {
              "type": "string"
            }
          },
          "metadata": {},
          "execution_count": 8
        }
      ]
    },
    {
      "cell_type": "code",
      "source": [
        "# Importing the image feature dataset for the classifier\n",
        "data = pd.read_csv('final.csv')\n",
        "\n",
        "# dropping the rows with null values\n",
        "train=data.dropna()\n",
        "\n",
        "# creating a column which consists of row numbers \n",
        "train.insert(loc=0, column='row_num', value=np.arange(len(train)))\n",
        "\n",
        "# dropping irrelevant features\n",
        "train=train.drop(columns=['ID','localX', 'localY'])"
      ],
      "metadata": {
        "id": "zHiTvdyJaDjz"
      },
      "execution_count": 9,
      "outputs": []
    },
    {
      "cell_type": "code",
      "source": [
        "predictions = pd.DataFrame(columns = ['contourArea','areaPercDiff','aspectRatio','momentLocDiff'])"
      ],
      "metadata": {
        "id": "pMriJhel0hs5"
      },
      "execution_count": 10,
      "outputs": []
    },
    {
      "cell_type": "code",
      "source": [
        "# Assigning the important features to X \n",
        "X = train[['contourArea','areaPercDiff','aspectRatio','momentLocDiff']]"
      ],
      "metadata": {
        "id": "Tudc4NF-cTx6"
      },
      "execution_count": 11,
      "outputs": []
    },
    {
      "cell_type": "code",
      "source": [
        "# Assigning the label values to y\n",
        "y = train['label']"
      ],
      "metadata": {
        "id": "06gmBNDccsG-"
      },
      "execution_count": 12,
      "outputs": []
    },
    {
      "cell_type": "code",
      "source": [
        "# Split dataset into training set and test set\n",
        "X_train, X_test, y_train, y_test = train_test_split(X, y, test_size=0.3)"
      ],
      "metadata": {
        "id": "nnhiTb9PdRsU"
      },
      "execution_count": 13,
      "outputs": []
    },
    {
      "cell_type": "code",
      "source": [
        "xg_param = {\n",
        "    \"n_estimators\": [50, 100],\n",
        "    \"random_state\": [0,1],\n",
        "    \"max_depth\" : [2,3],\n",
        "    \"learning_rate\" :[0.5,0.7]\n",
        "}\n",
        "rf_param = {\n",
        "    \"n_estimators\": [50, 100],\n",
        "    \"random_state\": [0,1],\n",
        "    \"max_depth\" : [2,3]\n",
        "}\n",
        "\n",
        "abc_param = {\n",
        "    \"n_estimators\": [50, 100],\n",
        "    \"random_state\": [0,1],\n",
        "    \"learning_rate\" :[0.5,0.7]\n",
        "}\n",
        "\n",
        "\n",
        "params = {}\n",
        "params.update({\"xg__\" + k: v for k, v in xg_param.items()})\n",
        "params.update({\"rf__\" + k: v for k, v in rf_param.items()})\n",
        "params.update({\"abc__\" + k: v for k, v in abc_param.items()})\n",
        "\n",
        "xg = XGBClassifier()\n",
        "rf = RandomForestClassifier()\n",
        "abc= AdaBoostClassifier()\n",
        "eclf = VotingClassifier(estimators=[(\"xg\", xg),(\"rf\", rf),(\"abc\", abc)],voting=\"hard\")\n",
        "\n",
        "\n",
        "grid = GridSearchCV(estimator=eclf, param_grid=params, cv=2)\n",
        "\n",
        "grid.fit(X_train,y_train)\n",
        "print (grid.best_params_)"
      ],
      "metadata": {
        "id": "plmeAy5iFGwH"
      },
      "execution_count": null,
      "outputs": []
    },
    {
      "cell_type": "code",
      "source": [
        "# Creating classifer objects and assigning them with the appropriate parameters\n",
        "clf1 = AdaBoostClassifier(n_estimators=50, learning_rate=0.5, random_state=0)\n",
        "clf2 = RandomForestClassifier(n_estimators=50, max_depth=3, random_state=0)\n",
        "clf3 = XGBClassifier(n_estimators=50, learning_rate=0.5, random_state=0, max_depth=2)\n",
        "\n",
        "# Training the Classifers using the fit method\n",
        "model1 = clf1.fit(X_train, y_train)\n",
        "model2 = clf2.fit(X_train, y_train)\n",
        "model3 = clf3.fit(X_train, y_train)\n",
        "\n",
        "# Assigning the fitted models to the voting classifier and then fitting the voting classifier\n",
        "eclf = VotingClassifier( estimators=[('abc', model1), ('rf', model2), ('xgb', model3)],voting='hard')\n",
        "model4 = eclf.fit(X_train, y_train)\n",
        "\n",
        "# Determining the accuracy of each model \n",
        "y_pred = model4.predict(X_test)\n",
        "print(model4, accuracy_score(y_test, y_pred))"
      ],
      "metadata": {
        "id": "6mtxaW_TdUGC"
      },
      "execution_count": null,
      "outputs": []
    },
    {
      "cell_type": "code",
      "source": [
        "y_pred = votingclassifier_from_joblib.predict(X_test)\n",
        "print(votingclassifier_from_joblib, accuracy_score(y_test, y_pred))"
      ],
      "metadata": {
        "colab": {
          "base_uri": "https://localhost:8080/"
        },
        "id": "jzw1y5fSnL0G",
        "outputId": "12c74bee-86f9-4a0f-bfe9-fc97db9dad5d"
      },
      "execution_count": 21,
      "outputs": [
        {
          "output_type": "stream",
          "name": "stdout",
          "text": [
            "VotingClassifier(estimators=[('abc',\n",
            "                              AdaBoostClassifier(learning_rate=0.5,\n",
            "                                                 random_state=0)),\n",
            "                             ('rf',\n",
            "                              RandomForestClassifier(max_depth=3,\n",
            "                                                     n_estimators=50,\n",
            "                                                     random_state=0)),\n",
            "                             ('xgb',\n",
            "                              XGBClassifier(learning_rate=0.5, max_depth=2,\n",
            "                                            missing=nan, n_estimators=50))]) 0.975609756097561\n"
          ]
        }
      ]
    },
    {
      "cell_type": "code",
      "source": [
        "# Save the model as a pickle in a file\n",
        "joblib.dump(model4, 'Voting Classifier.pkl')"
      ],
      "metadata": {
        "colab": {
          "base_uri": "https://localhost:8080/"
        },
        "id": "E9TtOZ9dqMra",
        "outputId": "57d8404b-bb95-43b8-dad1-07724db7f676"
      },
      "execution_count": null,
      "outputs": [
        {
          "output_type": "execute_result",
          "data": {
            "text/plain": [
              "['Voting Classifier.pkl']"
            ]
          },
          "metadata": {},
          "execution_count": 119
        }
      ]
    },
    {
      "cell_type": "code",
      "source": [
        "from sklearn import metrics\n",
        "report = metrics.classification_report(y_test, y_pred, output_dict=True)\n",
        "df_classification_report = pd.DataFrame(report).transpose()\n",
        "df_classification_report = df_classification_report.sort_values(by=['f1-score'], ascending=False)\n",
        "df_classification_report"
      ],
      "metadata": {
        "colab": {
          "base_uri": "https://localhost:8080/",
          "height": 206
        },
        "id": "QLFC3Euv25IA",
        "outputId": "df4062fa-3b00-4b4e-92ed-1b2d0b438d1f"
      },
      "execution_count": 19,
      "outputs": [
        {
          "output_type": "execute_result",
          "data": {
            "text/plain": [
              "              precision    recall  f1-score   support\n",
              "no_vortex      1.000000  0.952381   0.97561  21.00000\n",
              "vortex         0.952381  1.000000   0.97561  20.00000\n",
              "accuracy       0.975610  0.975610   0.97561   0.97561\n",
              "macro avg      0.976190  0.976190   0.97561  41.00000\n",
              "weighted avg   0.976771  0.975610   0.97561  41.00000"
            ],
            "text/html": [
              "\n",
              "  <div id=\"df-14fbe7be-69f5-4c59-b57d-b4b5b3dd7251\">\n",
              "    <div class=\"colab-df-container\">\n",
              "      <div>\n",
              "<style scoped>\n",
              "    .dataframe tbody tr th:only-of-type {\n",
              "        vertical-align: middle;\n",
              "    }\n",
              "\n",
              "    .dataframe tbody tr th {\n",
              "        vertical-align: top;\n",
              "    }\n",
              "\n",
              "    .dataframe thead th {\n",
              "        text-align: right;\n",
              "    }\n",
              "</style>\n",
              "<table border=\"1\" class=\"dataframe\">\n",
              "  <thead>\n",
              "    <tr style=\"text-align: right;\">\n",
              "      <th></th>\n",
              "      <th>precision</th>\n",
              "      <th>recall</th>\n",
              "      <th>f1-score</th>\n",
              "      <th>support</th>\n",
              "    </tr>\n",
              "  </thead>\n",
              "  <tbody>\n",
              "    <tr>\n",
              "      <th>no_vortex</th>\n",
              "      <td>1.000000</td>\n",
              "      <td>0.952381</td>\n",
              "      <td>0.97561</td>\n",
              "      <td>21.00000</td>\n",
              "    </tr>\n",
              "    <tr>\n",
              "      <th>vortex</th>\n",
              "      <td>0.952381</td>\n",
              "      <td>1.000000</td>\n",
              "      <td>0.97561</td>\n",
              "      <td>20.00000</td>\n",
              "    </tr>\n",
              "    <tr>\n",
              "      <th>accuracy</th>\n",
              "      <td>0.975610</td>\n",
              "      <td>0.975610</td>\n",
              "      <td>0.97561</td>\n",
              "      <td>0.97561</td>\n",
              "    </tr>\n",
              "    <tr>\n",
              "      <th>macro avg</th>\n",
              "      <td>0.976190</td>\n",
              "      <td>0.976190</td>\n",
              "      <td>0.97561</td>\n",
              "      <td>41.00000</td>\n",
              "    </tr>\n",
              "    <tr>\n",
              "      <th>weighted avg</th>\n",
              "      <td>0.976771</td>\n",
              "      <td>0.975610</td>\n",
              "      <td>0.97561</td>\n",
              "      <td>41.00000</td>\n",
              "    </tr>\n",
              "  </tbody>\n",
              "</table>\n",
              "</div>\n",
              "      <button class=\"colab-df-convert\" onclick=\"convertToInteractive('df-14fbe7be-69f5-4c59-b57d-b4b5b3dd7251')\"\n",
              "              title=\"Convert this dataframe to an interactive table.\"\n",
              "              style=\"display:none;\">\n",
              "        \n",
              "  <svg xmlns=\"http://www.w3.org/2000/svg\" height=\"24px\"viewBox=\"0 0 24 24\"\n",
              "       width=\"24px\">\n",
              "    <path d=\"M0 0h24v24H0V0z\" fill=\"none\"/>\n",
              "    <path d=\"M18.56 5.44l.94 2.06.94-2.06 2.06-.94-2.06-.94-.94-2.06-.94 2.06-2.06.94zm-11 1L8.5 8.5l.94-2.06 2.06-.94-2.06-.94L8.5 2.5l-.94 2.06-2.06.94zm10 10l.94 2.06.94-2.06 2.06-.94-2.06-.94-.94-2.06-.94 2.06-2.06.94z\"/><path d=\"M17.41 7.96l-1.37-1.37c-.4-.4-.92-.59-1.43-.59-.52 0-1.04.2-1.43.59L10.3 9.45l-7.72 7.72c-.78.78-.78 2.05 0 2.83L4 21.41c.39.39.9.59 1.41.59.51 0 1.02-.2 1.41-.59l7.78-7.78 2.81-2.81c.8-.78.8-2.07 0-2.86zM5.41 20L4 18.59l7.72-7.72 1.47 1.35L5.41 20z\"/>\n",
              "  </svg>\n",
              "      </button>\n",
              "      \n",
              "  <style>\n",
              "    .colab-df-container {\n",
              "      display:flex;\n",
              "      flex-wrap:wrap;\n",
              "      gap: 12px;\n",
              "    }\n",
              "\n",
              "    .colab-df-convert {\n",
              "      background-color: #E8F0FE;\n",
              "      border: none;\n",
              "      border-radius: 50%;\n",
              "      cursor: pointer;\n",
              "      display: none;\n",
              "      fill: #1967D2;\n",
              "      height: 32px;\n",
              "      padding: 0 0 0 0;\n",
              "      width: 32px;\n",
              "    }\n",
              "\n",
              "    .colab-df-convert:hover {\n",
              "      background-color: #E2EBFA;\n",
              "      box-shadow: 0px 1px 2px rgba(60, 64, 67, 0.3), 0px 1px 3px 1px rgba(60, 64, 67, 0.15);\n",
              "      fill: #174EA6;\n",
              "    }\n",
              "\n",
              "    [theme=dark] .colab-df-convert {\n",
              "      background-color: #3B4455;\n",
              "      fill: #D2E3FC;\n",
              "    }\n",
              "\n",
              "    [theme=dark] .colab-df-convert:hover {\n",
              "      background-color: #434B5C;\n",
              "      box-shadow: 0px 1px 3px 1px rgba(0, 0, 0, 0.15);\n",
              "      filter: drop-shadow(0px 1px 2px rgba(0, 0, 0, 0.3));\n",
              "      fill: #FFFFFF;\n",
              "    }\n",
              "  </style>\n",
              "\n",
              "      <script>\n",
              "        const buttonEl =\n",
              "          document.querySelector('#df-14fbe7be-69f5-4c59-b57d-b4b5b3dd7251 button.colab-df-convert');\n",
              "        buttonEl.style.display =\n",
              "          google.colab.kernel.accessAllowed ? 'block' : 'none';\n",
              "\n",
              "        async function convertToInteractive(key) {\n",
              "          const element = document.querySelector('#df-14fbe7be-69f5-4c59-b57d-b4b5b3dd7251');\n",
              "          const dataTable =\n",
              "            await google.colab.kernel.invokeFunction('convertToInteractive',\n",
              "                                                     [key], {});\n",
              "          if (!dataTable) return;\n",
              "\n",
              "          const docLinkHtml = 'Like what you see? Visit the ' +\n",
              "            '<a target=\"_blank\" href=https://colab.research.google.com/notebooks/data_table.ipynb>data table notebook</a>'\n",
              "            + ' to learn more about interactive tables.';\n",
              "          element.innerHTML = '';\n",
              "          dataTable['output_type'] = 'display_data';\n",
              "          await google.colab.output.renderOutput(dataTable, element);\n",
              "          const docLink = document.createElement('div');\n",
              "          docLink.innerHTML = docLinkHtml;\n",
              "          element.appendChild(docLink);\n",
              "        }\n",
              "      </script>\n",
              "    </div>\n",
              "  </div>\n",
              "  "
            ]
          },
          "metadata": {},
          "execution_count": 19
        }
      ]
    },
    {
      "cell_type": "code",
      "source": [
        "# Load the model from the file\n",
        "votingclassifier_from_joblib = joblib.load('Voting Classifier.pkl')"
      ],
      "metadata": {
        "id": "txXwy5EM-fpR",
        "colab": {
          "base_uri": "https://localhost:8080/"
        },
        "outputId": "c182a60d-7c51-4ef8-9cca-5862cd036ec2"
      },
      "execution_count": 16,
      "outputs": [
        {
          "output_type": "stream",
          "name": "stderr",
          "text": [
            "/usr/local/lib/python3.7/dist-packages/ipykernel_launcher.py:1: DeprecationWarning: time.clock has been deprecated in Python 3.3 and will be removed from Python 3.8: use time.perf_counter or time.process_time instead\n",
            "  \"\"\"Entry point for launching an IPython kernel.\n"
          ]
        }
      ]
    },
    {
      "cell_type": "code",
      "source": [
        "# arranging the parameters that have to be tested\n",
        "param_range = np.arange(1, 51)\n",
        "\n",
        "# obtaining the training and the testing scores to plot on the graph\n",
        "\n",
        "train_score, test_score = validation_curve(model1, X, y, param_name = \"n_estimators\", param_range=param_range, cv = 5, scoring = \"accuracy\")\n",
        " \n",
        "# Calculating the mean and the standard deviation of the training score\n",
        "mean_training_score = np.mean(train_score, axis = 1)\n",
        "std_training_score = np.std(train_score, axis = 1)\n",
        " \n",
        "# Calculating the mean and the standard deviation of the testing score\n",
        "mean_testing_score = np.mean(test_score, axis = 1)\n",
        "std_testing_score = np.std(test_score, axis = 1)\n",
        " \n",
        "# Plot the mean accuracy scores for the training and testing scores\n",
        "plt.plot(param_range, mean_training_score, label = \"Training Score\", color = 'b')\n",
        "plt.plot(param_range, mean_testing_score, label = \"Cross Validation Score\", color = 'g')\n",
        " \n",
        "# Creating the plot\n",
        "plt.title(\"Validation Curve with AdaBoost Classifier\")\n",
        "plt.xlabel(\"Number of Estimators\")\n",
        "plt.ylabel(\"Accuracy\")\n",
        "plt.tight_layout()\n",
        "plt.legend(loc = 'best')\n",
        "plt.show()"
      ],
      "metadata": {
        "colab": {
          "base_uri": "https://localhost:8080/",
          "height": 297
        },
        "id": "v1y4aef_7UEN",
        "outputId": "854e70a2-0fdc-4439-dca7-4f8a0e22663b"
      },
      "execution_count": null,
      "outputs": [
        {
          "output_type": "display_data",
          "data": {
            "text/plain": [
              "<Figure size 432x288 with 1 Axes>"
            ],
            "image/png": "[encoded data removed]"
          },
          "metadata": {
            "needs_background": "light"
          }
        }
      ]
    },
    {
      "cell_type": "code",
      "source": [
        "# arranging the parameters that have to be tested\n",
        "param_range = np.arange(1, 51)\n",
        "\n",
        "# obtaining the training and the testing scores to plot on the graph\n",
        "\n",
        "train_score, test_score = validation_curve(model2, X, y, param_name = \"n_estimators\", param_range=param_range, cv = 5, scoring = \"accuracy\")\n",
        " \n",
        "# Calculating the mean and the standard deviation of the training score\n",
        "mean_training_score = np.mean(train_score, axis = 1)\n",
        "std_training_score = np.std(train_score, axis = 1)\n",
        " \n",
        "# Calculating the mean and the standard deviation of the testing score\n",
        "mean_testing_score = np.mean(test_score, axis = 1)\n",
        "std_testing_score = np.std(test_score, axis = 1)\n",
        " \n",
        "# Plot the mean accuracy scores for the training and testing scores\n",
        "plt.plot(param_range, mean_training_score, label = \"Training Score\", color = 'b')\n",
        "plt.plot(param_range, mean_testing_score, label = \"Cross Validation Score\", color = 'g')\n",
        " \n",
        "# Creating the plot\n",
        "plt.title(\"Validation Curve with Random Forest Classifier\")\n",
        "plt.xlabel(\"Number of Estimators\")\n",
        "plt.ylabel(\"Accuracy\")\n",
        "plt.tight_layout()\n",
        "plt.legend(loc = 'best')\n",
        "plt.show()"
      ],
      "metadata": {
        "colab": {
          "base_uri": "https://localhost:8080/",
          "height": 297
        },
        "id": "A1CogRqRg9ar",
        "outputId": "0f606e37-16eb-4a29-91ec-c4f4cbd23ff1"
      },
      "execution_count": null,
      "outputs": [
        {
          "output_type": "display_data",
          "data": {
            "text/plain": [
              "<Figure size 432x288 with 1 Axes>"
            ],
            "image/png": "[encoded data removed]"
          },
          "metadata": {
            "needs_background": "light"
          }
        }
      ]
    },
    {
      "cell_type": "code",
      "source": [
        "# arranging the parameters that have to be tested\n",
        "param_range = np.arange(1, 51)\n",
        "\n",
        "# obtaining the training and the testing scores to plot on the graph\n",
        "\n",
        "train_score, test_score = validation_curve(model3, X, y, param_name = \"n_estimators\", param_range=param_range, cv = 5, scoring = \"accuracy\")\n",
        " \n",
        "# Calculating the mean and the standard deviation of the training score\n",
        "mean_training_score = np.mean(train_score, axis = 1)\n",
        "std_training_score = np.std(train_score, axis = 1)\n",
        " \n",
        "# Calculating the mean and the standard deviation of the testing score\n",
        "mean_testing_score = np.mean(test_score, axis = 1)\n",
        "std_testing_score = np.std(test_score, axis = 1)\n",
        " \n",
        "# Plot the mean accuracy scores for the training and testing scores\n",
        "plt.plot(param_range, mean_training_score, label = \"Training Score\", color = 'b')\n",
        "plt.plot(param_range, mean_testing_score, label = \"Cross Validation Score\", color = 'g')\n",
        " \n",
        "# Creating the plot\n",
        "plt.title(\"Validation Curve with XGBoost Classifier\")\n",
        "plt.xlabel(\"Number of Estimators\")\n",
        "plt.ylabel(\"Accuracy\")\n",
        "plt.tight_layout()\n",
        "plt.legend(loc = 'best')\n",
        "plt.show()"
      ],
      "metadata": {
        "colab": {
          "base_uri": "https://localhost:8080/",
          "height": 297
        },
        "id": "PyD1io7uhZfa",
        "outputId": "bffd3dc6-e8b8-44e2-8d0a-6a5260add8be"
      },
      "execution_count": null,
      "outputs": [
        {
          "output_type": "display_data",
          "data": {
            "text/plain": [
              "<Figure size 432x288 with 1 Axes>"
            ],
            "image/png": "[encoded data removed]"
          },
          "metadata": {
            "needs_background": "light"
          }
        }
      ]
    },
    {
      "cell_type": "code",
      "source": [
        "cf_matrix = confusion_matrix(y_test, y_pred)\n",
        "print(cf_matrix)"
      ],
      "metadata": {
        "colab": {
          "base_uri": "https://localhost:8080/"
        },
        "id": "NFUK7j-VqIj7",
        "outputId": "94afc4da-c38b-4abb-942e-1bef916918fe"
      },
      "execution_count": 137,
      "outputs": [
        {
          "output_type": "stream",
          "name": "stdout",
          "text": [
            "[[20  1]\n",
            " [ 0 20]]\n"
          ]
        }
      ]
    },
    {
      "cell_type": "code",
      "source": [
        "group_names = ['True Neg', 'False Pos', 'False Neg', 'True Pos']\n",
        "#group_counts = [\"{0:0.0f}\".format(value) for value in cf_matrix.flatten()]\n",
        "group_percentages = [\"{0:.2%}\".format(value) for value in cf_matrix.flatten()/np.sum(cf_matrix)]\n",
        "labels = [f\"{v1}\\n{v2}\" for v1, v2 in zip(group_names,group_percentages)]\n",
        "labels = np.asarray(labels).reshape(2,2)\n",
        "sns.heatmap(cf_matrix, annot=labels, fmt='', cmap='Blues')"
      ],
      "metadata": {
        "colab": {
          "base_uri": "https://localhost:8080/",
          "height": 287
        },
        "id": "zLtdSzImfrpX",
        "outputId": "ea614e4d-306b-490e-fedb-2f37c1e83c93"
      },
      "execution_count": 138,
      "outputs": [
        {
          "output_type": "execute_result",
          "data": {
            "text/plain": [
              "<matplotlib.axes._subplots.AxesSubplot at 0x7f393b4ac2d0>"
            ]
          },
          "metadata": {},
          "execution_count": 138
        },
        {
          "output_type": "display_data",
          "data": {
            "text/plain": [
              "<Figure size 432x288 with 2 Axes>"
            ],
            "image/png": "[encoded data removed]"
          },
          "metadata": {
            "needs_background": "light"
          }
        }
      ]
    },
    {
      "cell_type": "code",
      "source": [
        "t_p, f_p, f_n, t_n = confusion_matrix(y_test, y_pred).ravel()\n",
        "Accuracy = (t_p+t_n)*100/(t_p+t_n+f_p+f_n) \n",
        "print(\"Accuracy {:0.2f}%:\",(Accuracy))"
      ],
      "metadata": {
        "colab": {
          "base_uri": "https://localhost:8080/"
        },
        "id": "Bcn978RRxhbm",
        "outputId": "d09fbd8f-9def-4174-dca2-371a71a21eb7"
      },
      "execution_count": 139,
      "outputs": [
        {
          "output_type": "stream",
          "name": "stdout",
          "text": [
            "Accuracy {:0.2f}%: 97.5609756097561\n"
          ]
        }
      ]
    },
    {
      "cell_type": "code",
      "source": [
        "importance = clf1.feature_importances_\n",
        "plt.figure(figsize=(5,5), dpi= 80)\n",
        "plt.bar([x for x in range(len(importance))], importance)\n",
        "plt.show()"
      ],
      "metadata": {
        "colab": {
          "base_uri": "https://localhost:8080/",
          "height": 352
        },
        "id": "RAmuYy2yh71g",
        "outputId": "fdbc8cc4-eeef-4084-84df-13910077cba7"
      },
      "execution_count": null,
      "outputs": [
        {
          "output_type": "display_data",
          "data": {
            "text/plain": [
              "<Figure size 400x400 with 1 Axes>"
            ],
            "image/png": "[encoded data removed]"
          },
          "metadata": {
            "needs_background": "light"
          }
        }
      ]
    },
    {
      "cell_type": "code",
      "source": [
        "importance = clf2.feature_importances_\n",
        "plt.figure(figsize=(5,5), dpi= 80)\n",
        "plt.bar([x for x in range(len(importance))], importance)\n",
        "plt.show()"
      ],
      "metadata": {
        "colab": {
          "base_uri": "https://localhost:8080/",
          "height": 352
        },
        "id": "iG8UKaXkikip",
        "outputId": "29904e32-5a31-4cd5-8ea4-5e478f91174b"
      },
      "execution_count": null,
      "outputs": [
        {
          "output_type": "display_data",
          "data": {
            "text/plain": [
              "<Figure size 400x400 with 1 Axes>"
            ],
            "image/png": "[encoded data removed]"
          },
          "metadata": {
            "needs_background": "light"
          }
        }
      ]
    },
    {
      "cell_type": "code",
      "source": [
        "importance = clf3.feature_importances_\n",
        "plt.figure(figsize=(5,5), dpi= 80)\n",
        "plt.bar([x for x in range(len(importance))], importance)\n",
        "plt.show()"
      ],
      "metadata": {
        "colab": {
          "base_uri": "https://localhost:8080/",
          "height": 353
        },
        "id": "0lWBm0ZGipR9",
        "outputId": "a354289f-ae5e-4bad-bdc3-5197724d4d51"
      },
      "execution_count": null,
      "outputs": [
        {
          "output_type": "display_data",
          "data": {
            "text/plain": [
              "<Figure size 400x400 with 1 Axes>"
            ],
            "image/png": "[encoded data removed]"
          },
          "metadata": {
            "needs_background": "light"
          }
        }
      ]
    }
  ]
}
