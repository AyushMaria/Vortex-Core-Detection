{
  "nbformat": 4,
  "nbformat_minor": 0,
  "metadata": {
    "colab": {
      "name": "Test.ipynb",
      "provenance": [],
      "authorship_tag": "ABX9TyMBO0iksKjRvehqGjYlUoUQ",
      "include_colab_link": true
    },
    "kernelspec": {
      "name": "python3",
      "display_name": "Python 3"
    },
    "language_info": {
      "name": "python"
    }
  },
  "cells": [
    {
      "cell_type": "markdown",
      "metadata": {
        "id": "view-in-github",
        "colab_type": "text"
      },
      "source": [
        "<a href=\"https://colab.research.google.com/github/AyushMaria/Vortex-Detection/blob/main/Test.ipynb\" target=\"_parent\"><img src=\"https://colab.research.google.com/assets/colab-badge.svg\" alt=\"Open In Colab\"/></a>"
      ]
    },
    {
      "cell_type": "code",
      "execution_count": 2,
      "metadata": {
        "id": "POu01tfXBq0A"
      },
      "outputs": [],
      "source": [
        "# importing linear algebra\n",
        "import numpy as np \n",
        "\n",
        "# importing tools for data processing, CSV file I/O (e.g. pd.read_csv)\n",
        "import pandas as pd \n",
        "\n",
        "# importing the tools to call google drive\n",
        "from google.colab import drive\n",
        "\n",
        "# importing seaborn\n",
        "import seaborn as sns\n",
        "\n",
        "from sklearn.model_selection import GridSearchCV\n",
        "\n",
        "# import train_test_split function\n",
        "from sklearn.model_selection import train_test_split\n",
        "\n",
        "# import the Random Forest Classifier\n",
        "from sklearn.ensemble import RandomForestClassifier\n",
        "\n",
        "# Import the AdaBoost classifier\n",
        "from sklearn.ensemble import AdaBoostClassifier\n",
        "\n",
        "# Import the XGBoost Classifier \n",
        "from xgboost import XGBClassifier\n",
        "\n",
        "# Import joblib to save machine learning model\n",
        "import joblib\n",
        "\n",
        "# Import the Voting CLassifier\n",
        "from sklearn.ensemble import VotingClassifier\n",
        "\n",
        "# Importing the necessary tools to check how the clasifiers performed\n",
        "from sklearn.metrics import classification_report\n",
        "from sklearn.metrics import accuracy_score\n",
        "from sklearn.metrics import confusion_matrix \n",
        "\n",
        "# import the required metrics to plot validation curve\n",
        "from sklearn.model_selection import validation_curve\n",
        "\n",
        "# import the plotting library to visualize our learning curve\n",
        "import matplotlib.pyplot as plt\n"
      ]
    },
    {
      "cell_type": "code",
      "source": [
        "# mount our directory\n",
        "mount='/content/gdrive'\n",
        "drive.mount(mount, force_remount=True)"
      ],
      "metadata": {
        "colab": {
          "base_uri": "https://localhost:8080/"
        },
        "id": "EVKYOa61B2kv",
        "outputId": "bcec5cf0-7e89-4439-b990-2f2642029605"
      },
      "execution_count": 3,
      "outputs": [
        {
          "output_type": "stream",
          "name": "stdout",
          "text": [
            "Mounted at /content/gdrive\n"
          ]
        }
      ]
    },
    {
      "cell_type": "code",
      "source": [
        "# Switch to the directory on the VM for our purposes\n",
        "drive_root=mount + '/My Drive/Colab Notebooks/Object Detection'\n",
        "%cd $drive_root\n",
        "%pwd"
      ],
      "metadata": {
        "colab": {
          "base_uri": "https://localhost:8080/",
          "height": 53
        },
        "id": "T_PAi76ZB82w",
        "outputId": "457d8a25-fb55-4682-a634-e1f4d9d4ff67"
      },
      "execution_count": 4,
      "outputs": [
        {
          "output_type": "stream",
          "name": "stdout",
          "text": [
            "/content/gdrive/My Drive/Colab Notebooks/Object Detection\n"
          ]
        },
        {
          "output_type": "execute_result",
          "data": {
            "text/plain": [
              "'/content/gdrive/My Drive/Colab Notebooks/Object Detection'"
            ],
            "application/vnd.google.colaboratory.intrinsic+json": {
              "type": "string"
            }
          },
          "metadata": {},
          "execution_count": 4
        }
      ]
    },
    {
      "cell_type": "code",
      "source": [
        "# Load the model from the file\n",
        "votingclassifier_from_joblib = joblib.load('Voting Classifier.pkl')"
      ],
      "metadata": {
        "id": "lm-c2V8_CBcU"
      },
      "execution_count": 5,
      "outputs": []
    },
    {
      "cell_type": "code",
      "source": [
        "df = pd.read_csv('CORE DETECTION labels_aa2_rs2400.csv')\n",
        "df=df.loc[df.contourArea>100]"
      ],
      "metadata": {
        "id": "uXNI07pOCI2b"
      },
      "execution_count": 6,
      "outputs": []
    },
    {
      "cell_type": "code",
      "source": [
        "# Importing the image feature dataset for the classifier\n",
        "final_X_test=df[['contourArea','areaPercDiff','aspectRatio','momentLocDiff']]\n",
        "final_y_pred=votingclassifier_from_joblib.predict(final_X_test)"
      ],
      "metadata": {
        "id": "d41GUo3-CNsI"
      },
      "execution_count": 7,
      "outputs": []
    },
    {
      "cell_type": "code",
      "source": [
        "row=[]\n",
        "predictions=final_X_test.copy()\n",
        "predictions['Z']=df['Z']\n",
        "predictions['Y']=df['Y']\n",
        "predictions['label']=final_y_pred\n",
        "predictions['ID']=df['ID']\n",
        "predictions=predictions.loc[predictions.label=='vortex']\n",
        "a=range(predictions[predictions.columns[0]].count())\n",
        "row=[x+1 for x in a]\n",
        "predictions['row']=row\n",
        "predictions=predictions[['row','ID','areaPercDiff','aspectRatio','momentLocDiff','label','Z','Y']]\n",
        "predictions.to_csv('predictions.csv')"
      ],
      "metadata": {
        "id": "Yo6sN2JnCSas"
      },
      "execution_count": 8,
      "outputs": []
    }
  ]
}
