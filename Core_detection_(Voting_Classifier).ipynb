{
  "nbformat": 4,
  "nbformat_minor": 0,
  "metadata": {
    "colab": {
      "name": "Core detection (Voting Classifier).ipynb",
      "provenance": [],
      "collapsed_sections": [],
      "authorship_tag": "ABX9TyOdmlFHXSBt/xQUwQZRuTv0",
      "include_colab_link": true
    },
    "kernelspec": {
      "name": "python3",
      "display_name": "Python 3"
    },
    "language_info": {
      "name": "python"
    }
  },
  "cells": [
    {
      "cell_type": "markdown",
      "metadata": {
        "id": "view-in-github",
        "colab_type": "text"
      },
      "source": [
        "<a href=\"https://colab.research.google.com/github/AyushMaria/Vortex-Detection/blob/main/Core_detection_(Voting_Classifier).ipynb\" target=\"_parent\"><img src=\"https://colab.research.google.com/assets/colab-badge.svg\" alt=\"Open In Colab\"/></a>"
      ]
    },
    {
      "cell_type": "code",
      "execution_count": 1,
      "metadata": {
        "id": "2cGFLIshZ1Zm"
      },
      "outputs": [],
      "source": [
        "import numpy as np # linear algebra\n",
        "import pandas as pd # data processing, CSV file I/O (e.g. pd.read_csv)\n",
        "from google.colab import drive"
      ]
    },
    {
      "cell_type": "code",
      "source": [
        "# Mount the Google Drive at mount\n",
        "mount='/content/gdrive'\n",
        "drive.mount(mount, force_remount=True)\n",
        "# Switch to the directory on the Google Drive that you want to use\n",
        "drive_root=mount + '/My Drive/Colab Notebooks/Object Detection'"
      ],
      "metadata": {
        "colab": {
          "base_uri": "https://localhost:8080/"
        },
        "id": "8rNoaGSnZ5Cc",
        "outputId": "11ce9fe6-fef2-45a1-9d43-ca013756cb0c"
      },
      "execution_count": 2,
      "outputs": [
        {
          "output_type": "stream",
          "name": "stdout",
          "text": [
            "Mounted at /content/gdrive\n"
          ]
        }
      ]
    },
    {
      "cell_type": "code",
      "source": [
        "%cd $drive_root\n",
        "%pwd"
      ],
      "metadata": {
        "colab": {
          "base_uri": "https://localhost:8080/",
          "height": 53
        },
        "id": "SorlL28MaR-x",
        "outputId": "f7b8fddb-996c-426d-8c0d-94cba750993f"
      },
      "execution_count": 3,
      "outputs": [
        {
          "output_type": "stream",
          "name": "stdout",
          "text": [
            "/content/gdrive/My Drive/Colab Notebooks/Object Detection\n"
          ]
        },
        {
          "output_type": "execute_result",
          "data": {
            "text/plain": [
              "'/content/gdrive/My Drive/Colab Notebooks/Object Detection'"
            ],
            "application/vnd.google.colaboratory.intrinsic+json": {
              "type": "string"
            }
          },
          "metadata": {},
          "execution_count": 3
        }
      ]
    },
    {
      "cell_type": "code",
      "source": [
        "data = pd.read_csv('adaboost.csv')\n",
        "data.head()"
      ],
      "metadata": {
        "colab": {
          "base_uri": "https://localhost:8080/",
          "height": 206
        },
        "id": "zHiTvdyJaDjz",
        "outputId": "33ebc876-b8a5-4dff-a9dd-ddeb00eb645a"
      },
      "execution_count": 4,
      "outputs": [
        {
          "output_type": "execute_result",
          "data": {
            "text/plain": [
              "   ID  contourArea  areaPercDiff  aspectRatio  momentLocDiff      label\n",
              "0   1        283.5     67.500000     0.952381      28.491470     vortex\n",
              "1   2       2281.5     52.388060     1.030769      24.713409     vortex\n",
              "2   3       1177.0     53.891941     1.238095      24.540352     vortex\n",
              "3   4       2285.0     32.503556     0.778947      51.181107  no_vortex\n",
              "4   5       3155.5     63.490946     1.014286      51.263397     vortex"
            ],
            "text/html": [
              "\n",
              "  <div id=\"df-7eb38f74-c6db-43d2-bda4-5e89dffaa18d\">\n",
              "    <div class=\"colab-df-container\">\n",
              "      <div>\n",
              "<style scoped>\n",
              "    .dataframe tbody tr th:only-of-type {\n",
              "        vertical-align: middle;\n",
              "    }\n",
              "\n",
              "    .dataframe tbody tr th {\n",
              "        vertical-align: top;\n",
              "    }\n",
              "\n",
              "    .dataframe thead th {\n",
              "        text-align: right;\n",
              "    }\n",
              "</style>\n",
              "<table border=\"1\" class=\"dataframe\">\n",
              "  <thead>\n",
              "    <tr style=\"text-align: right;\">\n",
              "      <th></th>\n",
              "      <th>ID</th>\n",
              "      <th>contourArea</th>\n",
              "      <th>areaPercDiff</th>\n",
              "      <th>aspectRatio</th>\n",
              "      <th>momentLocDiff</th>\n",
              "      <th>label</th>\n",
              "    </tr>\n",
              "  </thead>\n",
              "  <tbody>\n",
              "    <tr>\n",
              "      <th>0</th>\n",
              "      <td>1</td>\n",
              "      <td>283.5</td>\n",
              "      <td>67.500000</td>\n",
              "      <td>0.952381</td>\n",
              "      <td>28.491470</td>\n",
              "      <td>vortex</td>\n",
              "    </tr>\n",
              "    <tr>\n",
              "      <th>1</th>\n",
              "      <td>2</td>\n",
              "      <td>2281.5</td>\n",
              "      <td>52.388060</td>\n",
              "      <td>1.030769</td>\n",
              "      <td>24.713409</td>\n",
              "      <td>vortex</td>\n",
              "    </tr>\n",
              "    <tr>\n",
              "      <th>2</th>\n",
              "      <td>3</td>\n",
              "      <td>1177.0</td>\n",
              "      <td>53.891941</td>\n",
              "      <td>1.238095</td>\n",
              "      <td>24.540352</td>\n",
              "      <td>vortex</td>\n",
              "    </tr>\n",
              "    <tr>\n",
              "      <th>3</th>\n",
              "      <td>4</td>\n",
              "      <td>2285.0</td>\n",
              "      <td>32.503556</td>\n",
              "      <td>0.778947</td>\n",
              "      <td>51.181107</td>\n",
              "      <td>no_vortex</td>\n",
              "    </tr>\n",
              "    <tr>\n",
              "      <th>4</th>\n",
              "      <td>5</td>\n",
              "      <td>3155.5</td>\n",
              "      <td>63.490946</td>\n",
              "      <td>1.014286</td>\n",
              "      <td>51.263397</td>\n",
              "      <td>vortex</td>\n",
              "    </tr>\n",
              "  </tbody>\n",
              "</table>\n",
              "</div>\n",
              "      <button class=\"colab-df-convert\" onclick=\"convertToInteractive('df-7eb38f74-c6db-43d2-bda4-5e89dffaa18d')\"\n",
              "              title=\"Convert this dataframe to an interactive table.\"\n",
              "              style=\"display:none;\">\n",
              "        \n",
              "  <svg xmlns=\"http://www.w3.org/2000/svg\" height=\"24px\"viewBox=\"0 0 24 24\"\n",
              "       width=\"24px\">\n",
              "    <path d=\"M0 0h24v24H0V0z\" fill=\"none\"/>\n",
              "    <path d=\"M18.56 5.44l.94 2.06.94-2.06 2.06-.94-2.06-.94-.94-2.06-.94 2.06-2.06.94zm-11 1L8.5 8.5l.94-2.06 2.06-.94-2.06-.94L8.5 2.5l-.94 2.06-2.06.94zm10 10l.94 2.06.94-2.06 2.06-.94-2.06-.94-.94-2.06-.94 2.06-2.06.94z\"/><path d=\"M17.41 7.96l-1.37-1.37c-.4-.4-.92-.59-1.43-.59-.52 0-1.04.2-1.43.59L10.3 9.45l-7.72 7.72c-.78.78-.78 2.05 0 2.83L4 21.41c.39.39.9.59 1.41.59.51 0 1.02-.2 1.41-.59l7.78-7.78 2.81-2.81c.8-.78.8-2.07 0-2.86zM5.41 20L4 18.59l7.72-7.72 1.47 1.35L5.41 20z\"/>\n",
              "  </svg>\n",
              "      </button>\n",
              "      \n",
              "  <style>\n",
              "    .colab-df-container {\n",
              "      display:flex;\n",
              "      flex-wrap:wrap;\n",
              "      gap: 12px;\n",
              "    }\n",
              "\n",
              "    .colab-df-convert {\n",
              "      background-color: #E8F0FE;\n",
              "      border: none;\n",
              "      border-radius: 50%;\n",
              "      cursor: pointer;\n",
              "      display: none;\n",
              "      fill: #1967D2;\n",
              "      height: 32px;\n",
              "      padding: 0 0 0 0;\n",
              "      width: 32px;\n",
              "    }\n",
              "\n",
              "    .colab-df-convert:hover {\n",
              "      background-color: #E2EBFA;\n",
              "      box-shadow: 0px 1px 2px rgba(60, 64, 67, 0.3), 0px 1px 3px 1px rgba(60, 64, 67, 0.15);\n",
              "      fill: #174EA6;\n",
              "    }\n",
              "\n",
              "    [theme=dark] .colab-df-convert {\n",
              "      background-color: #3B4455;\n",
              "      fill: #D2E3FC;\n",
              "    }\n",
              "\n",
              "    [theme=dark] .colab-df-convert:hover {\n",
              "      background-color: #434B5C;\n",
              "      box-shadow: 0px 1px 3px 1px rgba(0, 0, 0, 0.15);\n",
              "      filter: drop-shadow(0px 1px 2px rgba(0, 0, 0, 0.3));\n",
              "      fill: #FFFFFF;\n",
              "    }\n",
              "  </style>\n",
              "\n",
              "      <script>\n",
              "        const buttonEl =\n",
              "          document.querySelector('#df-7eb38f74-c6db-43d2-bda4-5e89dffaa18d button.colab-df-convert');\n",
              "        buttonEl.style.display =\n",
              "          google.colab.kernel.accessAllowed ? 'block' : 'none';\n",
              "\n",
              "        async function convertToInteractive(key) {\n",
              "          const element = document.querySelector('#df-7eb38f74-c6db-43d2-bda4-5e89dffaa18d');\n",
              "          const dataTable =\n",
              "            await google.colab.kernel.invokeFunction('convertToInteractive',\n",
              "                                                     [key], {});\n",
              "          if (!dataTable) return;\n",
              "\n",
              "          const docLinkHtml = 'Like what you see? Visit the ' +\n",
              "            '<a target=\"_blank\" href=https://colab.research.google.com/notebooks/data_table.ipynb>data table notebook</a>'\n",
              "            + ' to learn more about interactive tables.';\n",
              "          element.innerHTML = '';\n",
              "          dataTable['output_type'] = 'display_data';\n",
              "          await google.colab.output.renderOutput(dataTable, element);\n",
              "          const docLink = document.createElement('div');\n",
              "          docLink.innerHTML = docLinkHtml;\n",
              "          element.appendChild(docLink);\n",
              "        }\n",
              "      </script>\n",
              "    </div>\n",
              "  </div>\n",
              "  "
            ]
          },
          "metadata": {},
          "execution_count": 4
        }
      ]
    },
    {
      "cell_type": "code",
      "source": [
        "data.info()"
      ],
      "metadata": {
        "colab": {
          "base_uri": "https://localhost:8080/"
        },
        "id": "9oMsqxMldfHq",
        "outputId": "70825e3e-3029-4871-c90e-8c0e2cb4bb49"
      },
      "execution_count": 5,
      "outputs": [
        {
          "output_type": "stream",
          "name": "stdout",
          "text": [
            "<class 'pandas.core.frame.DataFrame'>\n",
            "RangeIndex: 36 entries, 0 to 35\n",
            "Data columns (total 6 columns):\n",
            " #   Column         Non-Null Count  Dtype  \n",
            "---  ------         --------------  -----  \n",
            " 0   ID             36 non-null     int64  \n",
            " 1   contourArea    36 non-null     float64\n",
            " 2   areaPercDiff   36 non-null     float64\n",
            " 3   aspectRatio    36 non-null     float64\n",
            " 4   momentLocDiff  36 non-null     float64\n",
            " 5   label          36 non-null     object \n",
            "dtypes: float64(4), int64(1), object(1)\n",
            "memory usage: 1.8+ KB\n"
          ]
        }
      ]
    },
    {
      "cell_type": "code",
      "source": [
        "X = data[['contourArea','areaPercDiff','aspectRatio','momentLocDiff']]\n",
        "X.head()"
      ],
      "metadata": {
        "colab": {
          "base_uri": "https://localhost:8080/",
          "height": 206
        },
        "id": "Tudc4NF-cTx6",
        "outputId": "50870129-0c3f-4c44-c51b-15c1ac392d27"
      },
      "execution_count": 46,
      "outputs": [
        {
          "output_type": "execute_result",
          "data": {
            "text/plain": [
              "   contourArea  areaPercDiff  aspectRatio  momentLocDiff\n",
              "0        283.5     67.500000     0.952381      28.491470\n",
              "1       2281.5     52.388060     1.030769      24.713409\n",
              "2       1177.0     53.891941     1.238095      24.540352\n",
              "3       2285.0     32.503556     0.778947      51.181107\n",
              "4       3155.5     63.490946     1.014286      51.263397"
            ],
            "text/html": [
              "\n",
              "  <div id=\"df-7ab7b451-16ba-44f0-ba35-402824636bb7\">\n",
              "    <div class=\"colab-df-container\">\n",
              "      <div>\n",
              "<style scoped>\n",
              "    .dataframe tbody tr th:only-of-type {\n",
              "        vertical-align: middle;\n",
              "    }\n",
              "\n",
              "    .dataframe tbody tr th {\n",
              "        vertical-align: top;\n",
              "    }\n",
              "\n",
              "    .dataframe thead th {\n",
              "        text-align: right;\n",
              "    }\n",
              "</style>\n",
              "<table border=\"1\" class=\"dataframe\">\n",
              "  <thead>\n",
              "    <tr style=\"text-align: right;\">\n",
              "      <th></th>\n",
              "      <th>contourArea</th>\n",
              "      <th>areaPercDiff</th>\n",
              "      <th>aspectRatio</th>\n",
              "      <th>momentLocDiff</th>\n",
              "    </tr>\n",
              "  </thead>\n",
              "  <tbody>\n",
              "    <tr>\n",
              "      <th>0</th>\n",
              "      <td>283.5</td>\n",
              "      <td>67.500000</td>\n",
              "      <td>0.952381</td>\n",
              "      <td>28.491470</td>\n",
              "    </tr>\n",
              "    <tr>\n",
              "      <th>1</th>\n",
              "      <td>2281.5</td>\n",
              "      <td>52.388060</td>\n",
              "      <td>1.030769</td>\n",
              "      <td>24.713409</td>\n",
              "    </tr>\n",
              "    <tr>\n",
              "      <th>2</th>\n",
              "      <td>1177.0</td>\n",
              "      <td>53.891941</td>\n",
              "      <td>1.238095</td>\n",
              "      <td>24.540352</td>\n",
              "    </tr>\n",
              "    <tr>\n",
              "      <th>3</th>\n",
              "      <td>2285.0</td>\n",
              "      <td>32.503556</td>\n",
              "      <td>0.778947</td>\n",
              "      <td>51.181107</td>\n",
              "    </tr>\n",
              "    <tr>\n",
              "      <th>4</th>\n",
              "      <td>3155.5</td>\n",
              "      <td>63.490946</td>\n",
              "      <td>1.014286</td>\n",
              "      <td>51.263397</td>\n",
              "    </tr>\n",
              "  </tbody>\n",
              "</table>\n",
              "</div>\n",
              "      <button class=\"colab-df-convert\" onclick=\"convertToInteractive('df-7ab7b451-16ba-44f0-ba35-402824636bb7')\"\n",
              "              title=\"Convert this dataframe to an interactive table.\"\n",
              "              style=\"display:none;\">\n",
              "        \n",
              "  <svg xmlns=\"http://www.w3.org/2000/svg\" height=\"24px\"viewBox=\"0 0 24 24\"\n",
              "       width=\"24px\">\n",
              "    <path d=\"M0 0h24v24H0V0z\" fill=\"none\"/>\n",
              "    <path d=\"M18.56 5.44l.94 2.06.94-2.06 2.06-.94-2.06-.94-.94-2.06-.94 2.06-2.06.94zm-11 1L8.5 8.5l.94-2.06 2.06-.94-2.06-.94L8.5 2.5l-.94 2.06-2.06.94zm10 10l.94 2.06.94-2.06 2.06-.94-2.06-.94-.94-2.06-.94 2.06-2.06.94z\"/><path d=\"M17.41 7.96l-1.37-1.37c-.4-.4-.92-.59-1.43-.59-.52 0-1.04.2-1.43.59L10.3 9.45l-7.72 7.72c-.78.78-.78 2.05 0 2.83L4 21.41c.39.39.9.59 1.41.59.51 0 1.02-.2 1.41-.59l7.78-7.78 2.81-2.81c.8-.78.8-2.07 0-2.86zM5.41 20L4 18.59l7.72-7.72 1.47 1.35L5.41 20z\"/>\n",
              "  </svg>\n",
              "      </button>\n",
              "      \n",
              "  <style>\n",
              "    .colab-df-container {\n",
              "      display:flex;\n",
              "      flex-wrap:wrap;\n",
              "      gap: 12px;\n",
              "    }\n",
              "\n",
              "    .colab-df-convert {\n",
              "      background-color: #E8F0FE;\n",
              "      border: none;\n",
              "      border-radius: 50%;\n",
              "      cursor: pointer;\n",
              "      display: none;\n",
              "      fill: #1967D2;\n",
              "      height: 32px;\n",
              "      padding: 0 0 0 0;\n",
              "      width: 32px;\n",
              "    }\n",
              "\n",
              "    .colab-df-convert:hover {\n",
              "      background-color: #E2EBFA;\n",
              "      box-shadow: 0px 1px 2px rgba(60, 64, 67, 0.3), 0px 1px 3px 1px rgba(60, 64, 67, 0.15);\n",
              "      fill: #174EA6;\n",
              "    }\n",
              "\n",
              "    [theme=dark] .colab-df-convert {\n",
              "      background-color: #3B4455;\n",
              "      fill: #D2E3FC;\n",
              "    }\n",
              "\n",
              "    [theme=dark] .colab-df-convert:hover {\n",
              "      background-color: #434B5C;\n",
              "      box-shadow: 0px 1px 3px 1px rgba(0, 0, 0, 0.15);\n",
              "      filter: drop-shadow(0px 1px 2px rgba(0, 0, 0, 0.3));\n",
              "      fill: #FFFFFF;\n",
              "    }\n",
              "  </style>\n",
              "\n",
              "      <script>\n",
              "        const buttonEl =\n",
              "          document.querySelector('#df-7ab7b451-16ba-44f0-ba35-402824636bb7 button.colab-df-convert');\n",
              "        buttonEl.style.display =\n",
              "          google.colab.kernel.accessAllowed ? 'block' : 'none';\n",
              "\n",
              "        async function convertToInteractive(key) {\n",
              "          const element = document.querySelector('#df-7ab7b451-16ba-44f0-ba35-402824636bb7');\n",
              "          const dataTable =\n",
              "            await google.colab.kernel.invokeFunction('convertToInteractive',\n",
              "                                                     [key], {});\n",
              "          if (!dataTable) return;\n",
              "\n",
              "          const docLinkHtml = 'Like what you see? Visit the ' +\n",
              "            '<a target=\"_blank\" href=https://colab.research.google.com/notebooks/data_table.ipynb>data table notebook</a>'\n",
              "            + ' to learn more about interactive tables.';\n",
              "          element.innerHTML = '';\n",
              "          dataTable['output_type'] = 'display_data';\n",
              "          await google.colab.output.renderOutput(dataTable, element);\n",
              "          const docLink = document.createElement('div');\n",
              "          docLink.innerHTML = docLinkHtml;\n",
              "          element.appendChild(docLink);\n",
              "        }\n",
              "      </script>\n",
              "    </div>\n",
              "  </div>\n",
              "  "
            ]
          },
          "metadata": {},
          "execution_count": 46
        }
      ]
    },
    {
      "cell_type": "code",
      "source": [
        "print(X.iloc[:,:].min()-1)"
      ],
      "metadata": {
        "colab": {
          "base_uri": "https://localhost:8080/"
        },
        "id": "2Hdf7yAh3oZj",
        "outputId": "d9ca20fc-7cdd-40f4-86c3-face1f637199"
      },
      "execution_count": 47,
      "outputs": [
        {
          "output_type": "stream",
          "name": "stdout",
          "text": [
            "contourArea      208.000000\n",
            "areaPercDiff      19.064935\n",
            "aspectRatio       -0.587786\n",
            "momentLocDiff      1.230667\n",
            "dtype: float64\n"
          ]
        }
      ]
    },
    {
      "cell_type": "code",
      "source": [
        "y = data['label']\n",
        "y.head()"
      ],
      "metadata": {
        "colab": {
          "base_uri": "https://localhost:8080/"
        },
        "id": "06gmBNDccsG-",
        "outputId": "1aca1092-ad6c-47b5-ad80-04f4236f065d"
      },
      "execution_count": 49,
      "outputs": [
        {
          "output_type": "execute_result",
          "data": {
            "text/plain": [
              "0       vortex\n",
              "1       vortex\n",
              "2       vortex\n",
              "3    no_vortex\n",
              "4       vortex\n",
              "Name: label, dtype: object"
            ]
          },
          "metadata": {},
          "execution_count": 49
        }
      ]
    },
    {
      "cell_type": "code",
      "source": [
        "from sklearn.preprocessing import LabelEncoder\n",
        "\n",
        "le=LabelEncoder()\n",
        "#y=le.fit_transform(y)\n",
        "y.head()"
      ],
      "metadata": {
        "colab": {
          "base_uri": "https://localhost:8080/"
        },
        "id": "ZlxHYdXvz3eK",
        "outputId": "a8e118c2-2e89-4e40-d016-dc891e7f9fbb"
      },
      "execution_count": 77,
      "outputs": [
        {
          "output_type": "execute_result",
          "data": {
            "text/plain": [
              "0       vortex\n",
              "1       vortex\n",
              "2       vortex\n",
              "3    no_vortex\n",
              "4       vortex\n",
              "Name: label, dtype: object"
            ]
          },
          "metadata": {},
          "execution_count": 77
        }
      ]
    },
    {
      "cell_type": "code",
      "source": [
        "# Import train_test_split function\n",
        "from sklearn.model_selection import train_test_split\n",
        "\n",
        "# Split dataset into training set and test set\n",
        "X_train, X_test, y_train, y_test = train_test_split(X, y, test_size=0.2)"
      ],
      "metadata": {
        "id": "nnhiTb9PdRsU"
      },
      "execution_count": 78,
      "outputs": []
    },
    {
      "cell_type": "code",
      "source": [
        "# Import the AdaBoost classifier\n",
        "from sklearn.ensemble import AdaBoostClassifier\n",
        "from sklearn.ensemble import VotingClassifier\n",
        "from sklearn.ensemble import RandomForestClassifier\n",
        "from xgboost import XGBClassifier\n",
        "from sklearn.model_selection import cross_val_score\n",
        "import matplotlib.pyplot as plt\n",
        "from itertools import product\n",
        "\n",
        "\n",
        "# Create adaboost classifer object\n",
        "clf1 = AdaBoostClassifier(n_estimators=100, learning_rate=1, random_state=1)\n",
        "clf2 = RandomForestClassifier(n_estimators=100, max_depth=2, random_state=1)\n",
        "clf3 = XGBClassifier(n_estimators=100, learning_rate=1, random_state=1)\n",
        "\n",
        "\n",
        "# Train Adaboost Classifer\n",
        "model1 = clf1.fit(X_train, y_train)\n",
        "model2 = clf2.fit(X_train, y_train)\n",
        "model3 = clf3.fit(X_train, y_train)\n",
        "\n",
        "#Predict the response for test dataset\n",
        "eclf = VotingClassifier( estimators=[('abc', clf1), ('rf', clf2), ('xgb', clf3)],voting='hard')\n",
        "model4 = eclf.fit(X_train, y_train)\n",
        "\n",
        "for clf, label in zip([clf1, clf2, clf3, eclf], ['AdaBoost Classifier', 'Random Forest', 'XGBoost Classifier', 'Ensemble']):\n",
        "  scores = cross_val_score(clf, X, y, scoring='accuracy', cv=5)\n",
        "  print(\"Accuracy: %0.2f (+/- %0.2f) [%s]\" % (scores.mean(), scores.std(), label))\n",
        "\n"
      ],
      "metadata": {
        "colab": {
          "base_uri": "https://localhost:8080/"
        },
        "id": "6mtxaW_TdUGC",
        "outputId": "12bc9054-bc2b-4131-d77c-bec57cd9fe30"
      },
      "execution_count": 79,
      "outputs": [
        {
          "output_type": "stream",
          "name": "stdout",
          "text": [
            "Accuracy: 0.76 (+/- 0.17) [AdaBoost Classifier]\n",
            "Accuracy: 0.73 (+/- 0.07) [Random Forest]\n",
            "Accuracy: 0.83 (+/- 0.11) [XGBoost Classifier]\n",
            "Accuracy: 0.78 (+/- 0.13) [Ensemble]\n"
          ]
        }
      ]
    },
    {
      "cell_type": "code",
      "source": [
        "y_pred = eclf.predict(X_test)"
      ],
      "metadata": {
        "id": "yb69zhriMlT-"
      },
      "execution_count": 80,
      "outputs": []
    },
    {
      "cell_type": "code",
      "source": [
        "n=[]\n",
        "for row in X_test.itertuples():\n",
        "  n.append(row[0]+1)\n",
        "  \n",
        "for i in range(8):\n",
        "  print(n[i], y_pred[i])"
      ],
      "metadata": {
        "colab": {
          "base_uri": "https://localhost:8080/"
        },
        "id": "9N_6Kzq3Sgmp",
        "outputId": "57403b65-46d9-426b-b5a1-6dde9e919398"
      },
      "execution_count": 81,
      "outputs": [
        {
          "output_type": "stream",
          "name": "stdout",
          "text": [
            "15 vortex\n",
            "19 vortex\n",
            "27 no_vortex\n",
            "22 no_vortex\n",
            "31 vortex\n",
            "34 vortex\n",
            "21 vortex\n",
            "3 vortex\n"
          ]
        }
      ]
    },
    {
      "cell_type": "code",
      "source": [
        "eclf = VotingClassifier( estimators=[('abc', clf1), ('rf', clf2), ('xgb', clf3)],voting='soft',weights=[1,1,1])\n",
        "model4 = eclf.fit(X_train, y_train)\n",
        "\n",
        "for clf, label in zip([clf1, clf2, clf3, eclf], ['AdaBoost Classifier', 'Random Forest', 'XGBoost Classifier', 'Ensemble']):\n",
        "  scores = cross_val_score(clf, X, y, scoring='accuracy', cv=5)\n",
        "  print(\"Accuracy: %0.2f (+/- %0.2f) [%s]\" % (scores.mean(), scores.std(), label))\n"
      ],
      "metadata": {
        "id": "1PDgFL2mSN6h",
        "colab": {
          "base_uri": "https://localhost:8080/"
        },
        "outputId": "5406eccd-8220-4a84-a8cc-0dd2925b1099"
      },
      "execution_count": 82,
      "outputs": [
        {
          "output_type": "stream",
          "name": "stdout",
          "text": [
            "Accuracy: 0.76 (+/- 0.17) [AdaBoost Classifier]\n",
            "Accuracy: 0.73 (+/- 0.07) [Random Forest]\n",
            "Accuracy: 0.83 (+/- 0.11) [XGBoost Classifier]\n",
            "Accuracy: 0.75 (+/- 0.13) [Ensemble]\n"
          ]
        }
      ]
    },
    {
      "cell_type": "code",
      "source": [
        "y_pred = eclf.predict(X_test)"
      ],
      "metadata": {
        "id": "iImTT7wuXBbg"
      },
      "execution_count": 83,
      "outputs": []
    },
    {
      "cell_type": "code",
      "source": [
        "n=[]\n",
        "for row in X_test.itertuples():\n",
        "  n.append(row[0]+1)\n",
        "  \n",
        "for i in range(8):\n",
        "  print(n[i], y_pred[i])"
      ],
      "metadata": {
        "colab": {
          "base_uri": "https://localhost:8080/"
        },
        "id": "Hpuk6NM9XSI9",
        "outputId": "f7b17bf9-fbba-43be-fb56-f0f5ba7b7bf9"
      },
      "execution_count": 84,
      "outputs": [
        {
          "output_type": "stream",
          "name": "stdout",
          "text": [
            "15 vortex\n",
            "19 vortex\n",
            "27 no_vortex\n",
            "22 no_vortex\n",
            "31 vortex\n",
            "34 vortex\n",
            "21 vortex\n",
            "3 vortex\n"
          ]
        }
      ]
    }
  ]
}