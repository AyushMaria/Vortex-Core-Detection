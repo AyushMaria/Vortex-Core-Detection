{
  "nbformat": 4,
  "nbformat_minor": 0,
  "metadata": {
    "colab": {
      "name": "Core detection (Voting Classifier).ipynb",
      "provenance": [],
      "collapsed_sections": [],
      "authorship_tag": "ABX9TyMy0W29f96M/QZVVSgl7SSY",
      "include_colab_link": true
    },
    "kernelspec": {
      "name": "python3",
      "display_name": "Python 3"
    },
    "language_info": {
      "name": "python"
    }
  },
  "cells": [
    {
      "cell_type": "markdown",
      "metadata": {
        "id": "view-in-github",
        "colab_type": "text"
      },
      "source": [
        "<a href=\"https://colab.research.google.com/github/AyushMaria/Vortex-Detection/blob/main/Core_detection_(Voting_Classifier).ipynb\" target=\"_parent\"><img src=\"https://colab.research.google.com/assets/colab-badge.svg\" alt=\"Open In Colab\"/></a>"
      ]
    },
    {
      "cell_type": "code",
      "execution_count": null,
      "metadata": {
        "id": "2cGFLIshZ1Zm"
      },
      "outputs": [],
      "source": [
        "# Importing linear algebra\n",
        "import numpy as np \n",
        "\n",
        "# Importing tools for data processing, CSV file I/O (e.g. pd.read_csv)\n",
        "import pandas as pd \n",
        "\n",
        "#Importing the tools to call google drive\n",
        "from google.colab import drive"
      ]
    },
    {
      "cell_type": "code",
      "source": [
        "# Mount the Google Drive at mount\n",
        "mount='/content/gdrive'\n",
        "drive.mount(mount, force_remount=True)"
      ],
      "metadata": {
        "colab": {
          "base_uri": "https://localhost:8080/"
        },
        "id": "8rNoaGSnZ5Cc",
        "outputId": "5811cb3c-e36b-4c7a-a480-23a1a901ee26"
      },
      "execution_count": null,
      "outputs": [
        {
          "output_type": "stream",
          "name": "stdout",
          "text": [
            "Mounted at /content/gdrive\n"
          ]
        }
      ]
    },
    {
      "cell_type": "code",
      "source": [
        "# Switch to the directory on the Google Drive that we want to use\n",
        "drive_root=mount + '/My Drive/Colab Notebooks/Object Detection'\n",
        "%cd $drive_root\n",
        "%pwd"
      ],
      "metadata": {
        "colab": {
          "base_uri": "https://localhost:8080/",
          "height": 53
        },
        "id": "SorlL28MaR-x",
        "outputId": "fe3c7146-b3c4-408a-c744-c34bc22ea76f"
      },
      "execution_count": null,
      "outputs": [
        {
          "output_type": "stream",
          "name": "stdout",
          "text": [
            "/content/gdrive/My Drive/Colab Notebooks/Object Detection\n"
          ]
        },
        {
          "output_type": "execute_result",
          "data": {
            "text/plain": [
              "'/content/gdrive/My Drive/Colab Notebooks/Object Detection'"
            ],
            "application/vnd.google.colaboratory.intrinsic+json": {
              "type": "string"
            }
          },
          "metadata": {},
          "execution_count": 3
        }
      ]
    },
    {
      "cell_type": "code",
      "source": [
        "# Importing the image feature dataset for the classifier\n",
        "data = pd.read_csv('adaboost.csv')\n",
        "\n",
        "# Obtaining a visual of the dataset\n",
        "data.head()"
      ],
      "metadata": {
        "colab": {
          "base_uri": "https://localhost:8080/",
          "height": 206
        },
        "id": "zHiTvdyJaDjz",
        "outputId": "1c0d6c8a-061e-4e42-d4ae-b1885d919f4e"
      },
      "execution_count": null,
      "outputs": [
        {
          "output_type": "execute_result",
          "data": {
            "text/plain": [
              "   ID  contourArea  areaPercDiff  aspectRatio  momentLocDiff      label\n",
              "0   1        283.5     67.500000     0.952381      28.491470     vortex\n",
              "1   2       2281.5     52.388060     1.030769      24.713409     vortex\n",
              "2   3       1177.0     53.891941     1.238095      24.540352     vortex\n",
              "3   4       2285.0     32.503556     0.778947      51.181107  no_vortex\n",
              "4   5       3155.5     63.490946     1.014286      51.263397     vortex"
            ],
            "text/html": [
              "\n",
              "  <div id=\"df-0b2419ae-f102-4b82-b677-5b2b7cfce956\">\n",
              "    <div class=\"colab-df-container\">\n",
              "      <div>\n",
              "<style scoped>\n",
              "    .dataframe tbody tr th:only-of-type {\n",
              "        vertical-align: middle;\n",
              "    }\n",
              "\n",
              "    .dataframe tbody tr th {\n",
              "        vertical-align: top;\n",
              "    }\n",
              "\n",
              "    .dataframe thead th {\n",
              "        text-align: right;\n",
              "    }\n",
              "</style>\n",
              "<table border=\"1\" class=\"dataframe\">\n",
              "  <thead>\n",
              "    <tr style=\"text-align: right;\">\n",
              "      <th></th>\n",
              "      <th>ID</th>\n",
              "      <th>contourArea</th>\n",
              "      <th>areaPercDiff</th>\n",
              "      <th>aspectRatio</th>\n",
              "      <th>momentLocDiff</th>\n",
              "      <th>label</th>\n",
              "    </tr>\n",
              "  </thead>\n",
              "  <tbody>\n",
              "    <tr>\n",
              "      <th>0</th>\n",
              "      <td>1</td>\n",
              "      <td>283.5</td>\n",
              "      <td>67.500000</td>\n",
              "      <td>0.952381</td>\n",
              "      <td>28.491470</td>\n",
              "      <td>vortex</td>\n",
              "    </tr>\n",
              "    <tr>\n",
              "      <th>1</th>\n",
              "      <td>2</td>\n",
              "      <td>2281.5</td>\n",
              "      <td>52.388060</td>\n",
              "      <td>1.030769</td>\n",
              "      <td>24.713409</td>\n",
              "      <td>vortex</td>\n",
              "    </tr>\n",
              "    <tr>\n",
              "      <th>2</th>\n",
              "      <td>3</td>\n",
              "      <td>1177.0</td>\n",
              "      <td>53.891941</td>\n",
              "      <td>1.238095</td>\n",
              "      <td>24.540352</td>\n",
              "      <td>vortex</td>\n",
              "    </tr>\n",
              "    <tr>\n",
              "      <th>3</th>\n",
              "      <td>4</td>\n",
              "      <td>2285.0</td>\n",
              "      <td>32.503556</td>\n",
              "      <td>0.778947</td>\n",
              "      <td>51.181107</td>\n",
              "      <td>no_vortex</td>\n",
              "    </tr>\n",
              "    <tr>\n",
              "      <th>4</th>\n",
              "      <td>5</td>\n",
              "      <td>3155.5</td>\n",
              "      <td>63.490946</td>\n",
              "      <td>1.014286</td>\n",
              "      <td>51.263397</td>\n",
              "      <td>vortex</td>\n",
              "    </tr>\n",
              "  </tbody>\n",
              "</table>\n",
              "</div>\n",
              "      <button class=\"colab-df-convert\" onclick=\"convertToInteractive('df-0b2419ae-f102-4b82-b677-5b2b7cfce956')\"\n",
              "              title=\"Convert this dataframe to an interactive table.\"\n",
              "              style=\"display:none;\">\n",
              "        \n",
              "  <svg xmlns=\"http://www.w3.org/2000/svg\" height=\"24px\"viewBox=\"0 0 24 24\"\n",
              "       width=\"24px\">\n",
              "    <path d=\"M0 0h24v24H0V0z\" fill=\"none\"/>\n",
              "    <path d=\"M18.56 5.44l.94 2.06.94-2.06 2.06-.94-2.06-.94-.94-2.06-.94 2.06-2.06.94zm-11 1L8.5 8.5l.94-2.06 2.06-.94-2.06-.94L8.5 2.5l-.94 2.06-2.06.94zm10 10l.94 2.06.94-2.06 2.06-.94-2.06-.94-.94-2.06-.94 2.06-2.06.94z\"/><path d=\"M17.41 7.96l-1.37-1.37c-.4-.4-.92-.59-1.43-.59-.52 0-1.04.2-1.43.59L10.3 9.45l-7.72 7.72c-.78.78-.78 2.05 0 2.83L4 21.41c.39.39.9.59 1.41.59.51 0 1.02-.2 1.41-.59l7.78-7.78 2.81-2.81c.8-.78.8-2.07 0-2.86zM5.41 20L4 18.59l7.72-7.72 1.47 1.35L5.41 20z\"/>\n",
              "  </svg>\n",
              "      </button>\n",
              "      \n",
              "  <style>\n",
              "    .colab-df-container {\n",
              "      display:flex;\n",
              "      flex-wrap:wrap;\n",
              "      gap: 12px;\n",
              "    }\n",
              "\n",
              "    .colab-df-convert {\n",
              "      background-color: #E8F0FE;\n",
              "      border: none;\n",
              "      border-radius: 50%;\n",
              "      cursor: pointer;\n",
              "      display: none;\n",
              "      fill: #1967D2;\n",
              "      height: 32px;\n",
              "      padding: 0 0 0 0;\n",
              "      width: 32px;\n",
              "    }\n",
              "\n",
              "    .colab-df-convert:hover {\n",
              "      background-color: #E2EBFA;\n",
              "      box-shadow: 0px 1px 2px rgba(60, 64, 67, 0.3), 0px 1px 3px 1px rgba(60, 64, 67, 0.15);\n",
              "      fill: #174EA6;\n",
              "    }\n",
              "\n",
              "    [theme=dark] .colab-df-convert {\n",
              "      background-color: #3B4455;\n",
              "      fill: #D2E3FC;\n",
              "    }\n",
              "\n",
              "    [theme=dark] .colab-df-convert:hover {\n",
              "      background-color: #434B5C;\n",
              "      box-shadow: 0px 1px 3px 1px rgba(0, 0, 0, 0.15);\n",
              "      filter: drop-shadow(0px 1px 2px rgba(0, 0, 0, 0.3));\n",
              "      fill: #FFFFFF;\n",
              "    }\n",
              "  </style>\n",
              "\n",
              "      <script>\n",
              "        const buttonEl =\n",
              "          document.querySelector('#df-0b2419ae-f102-4b82-b677-5b2b7cfce956 button.colab-df-convert');\n",
              "        buttonEl.style.display =\n",
              "          google.colab.kernel.accessAllowed ? 'block' : 'none';\n",
              "\n",
              "        async function convertToInteractive(key) {\n",
              "          const element = document.querySelector('#df-0b2419ae-f102-4b82-b677-5b2b7cfce956');\n",
              "          const dataTable =\n",
              "            await google.colab.kernel.invokeFunction('convertToInteractive',\n",
              "                                                     [key], {});\n",
              "          if (!dataTable) return;\n",
              "\n",
              "          const docLinkHtml = 'Like what you see? Visit the ' +\n",
              "            '<a target=\"_blank\" href=https://colab.research.google.com/notebooks/data_table.ipynb>data table notebook</a>'\n",
              "            + ' to learn more about interactive tables.';\n",
              "          element.innerHTML = '';\n",
              "          dataTable['output_type'] = 'display_data';\n",
              "          await google.colab.output.renderOutput(dataTable, element);\n",
              "          const docLink = document.createElement('div');\n",
              "          docLink.innerHTML = docLinkHtml;\n",
              "          element.appendChild(docLink);\n",
              "        }\n",
              "      </script>\n",
              "    </div>\n",
              "  </div>\n",
              "  "
            ]
          },
          "metadata": {},
          "execution_count": 4
        }
      ]
    },
    {
      "cell_type": "code",
      "source": [
        "data.info()"
      ],
      "metadata": {
        "colab": {
          "base_uri": "https://localhost:8080/"
        },
        "id": "9oMsqxMldfHq",
        "outputId": "42491b85-f7e3-490c-bc05-b2a0caee54e1"
      },
      "execution_count": null,
      "outputs": [
        {
          "output_type": "stream",
          "name": "stdout",
          "text": [
            "<class 'pandas.core.frame.DataFrame'>\n",
            "RangeIndex: 36 entries, 0 to 35\n",
            "Data columns (total 6 columns):\n",
            " #   Column         Non-Null Count  Dtype  \n",
            "---  ------         --------------  -----  \n",
            " 0   ID             36 non-null     int64  \n",
            " 1   contourArea    36 non-null     float64\n",
            " 2   areaPercDiff   36 non-null     float64\n",
            " 3   aspectRatio    36 non-null     float64\n",
            " 4   momentLocDiff  36 non-null     float64\n",
            " 5   label          36 non-null     object \n",
            "dtypes: float64(4), int64(1), object(1)\n",
            "memory usage: 1.8+ KB\n"
          ]
        }
      ]
    },
    {
      "cell_type": "code",
      "source": [
        "# Assigning the important features to X \n",
        "X = data[['contourArea','areaPercDiff','aspectRatio','momentLocDiff']]\n",
        "\n",
        "# Confirming the values within X\n",
        "X.head()"
      ],
      "metadata": {
        "colab": {
          "base_uri": "https://localhost:8080/",
          "height": 206
        },
        "id": "Tudc4NF-cTx6",
        "outputId": "96f6d28c-6afc-481f-9636-d3da0ca1b764"
      },
      "execution_count": null,
      "outputs": [
        {
          "output_type": "execute_result",
          "data": {
            "text/plain": [
              "   contourArea  areaPercDiff  aspectRatio  momentLocDiff\n",
              "0        283.5     67.500000     0.952381      28.491470\n",
              "1       2281.5     52.388060     1.030769      24.713409\n",
              "2       1177.0     53.891941     1.238095      24.540352\n",
              "3       2285.0     32.503556     0.778947      51.181107\n",
              "4       3155.5     63.490946     1.014286      51.263397"
            ],
            "text/html": [
              "\n",
              "  <div id=\"df-e448e27f-b77b-4843-b876-d03fa2d447a5\">\n",
              "    <div class=\"colab-df-container\">\n",
              "      <div>\n",
              "<style scoped>\n",
              "    .dataframe tbody tr th:only-of-type {\n",
              "        vertical-align: middle;\n",
              "    }\n",
              "\n",
              "    .dataframe tbody tr th {\n",
              "        vertical-align: top;\n",
              "    }\n",
              "\n",
              "    .dataframe thead th {\n",
              "        text-align: right;\n",
              "    }\n",
              "</style>\n",
              "<table border=\"1\" class=\"dataframe\">\n",
              "  <thead>\n",
              "    <tr style=\"text-align: right;\">\n",
              "      <th></th>\n",
              "      <th>contourArea</th>\n",
              "      <th>areaPercDiff</th>\n",
              "      <th>aspectRatio</th>\n",
              "      <th>momentLocDiff</th>\n",
              "    </tr>\n",
              "  </thead>\n",
              "  <tbody>\n",
              "    <tr>\n",
              "      <th>0</th>\n",
              "      <td>283.5</td>\n",
              "      <td>67.500000</td>\n",
              "      <td>0.952381</td>\n",
              "      <td>28.491470</td>\n",
              "    </tr>\n",
              "    <tr>\n",
              "      <th>1</th>\n",
              "      <td>2281.5</td>\n",
              "      <td>52.388060</td>\n",
              "      <td>1.030769</td>\n",
              "      <td>24.713409</td>\n",
              "    </tr>\n",
              "    <tr>\n",
              "      <th>2</th>\n",
              "      <td>1177.0</td>\n",
              "      <td>53.891941</td>\n",
              "      <td>1.238095</td>\n",
              "      <td>24.540352</td>\n",
              "    </tr>\n",
              "    <tr>\n",
              "      <th>3</th>\n",
              "      <td>2285.0</td>\n",
              "      <td>32.503556</td>\n",
              "      <td>0.778947</td>\n",
              "      <td>51.181107</td>\n",
              "    </tr>\n",
              "    <tr>\n",
              "      <th>4</th>\n",
              "      <td>3155.5</td>\n",
              "      <td>63.490946</td>\n",
              "      <td>1.014286</td>\n",
              "      <td>51.263397</td>\n",
              "    </tr>\n",
              "  </tbody>\n",
              "</table>\n",
              "</div>\n",
              "      <button class=\"colab-df-convert\" onclick=\"convertToInteractive('df-e448e27f-b77b-4843-b876-d03fa2d447a5')\"\n",
              "              title=\"Convert this dataframe to an interactive table.\"\n",
              "              style=\"display:none;\">\n",
              "        \n",
              "  <svg xmlns=\"http://www.w3.org/2000/svg\" height=\"24px\"viewBox=\"0 0 24 24\"\n",
              "       width=\"24px\">\n",
              "    <path d=\"M0 0h24v24H0V0z\" fill=\"none\"/>\n",
              "    <path d=\"M18.56 5.44l.94 2.06.94-2.06 2.06-.94-2.06-.94-.94-2.06-.94 2.06-2.06.94zm-11 1L8.5 8.5l.94-2.06 2.06-.94-2.06-.94L8.5 2.5l-.94 2.06-2.06.94zm10 10l.94 2.06.94-2.06 2.06-.94-2.06-.94-.94-2.06-.94 2.06-2.06.94z\"/><path d=\"M17.41 7.96l-1.37-1.37c-.4-.4-.92-.59-1.43-.59-.52 0-1.04.2-1.43.59L10.3 9.45l-7.72 7.72c-.78.78-.78 2.05 0 2.83L4 21.41c.39.39.9.59 1.41.59.51 0 1.02-.2 1.41-.59l7.78-7.78 2.81-2.81c.8-.78.8-2.07 0-2.86zM5.41 20L4 18.59l7.72-7.72 1.47 1.35L5.41 20z\"/>\n",
              "  </svg>\n",
              "      </button>\n",
              "      \n",
              "  <style>\n",
              "    .colab-df-container {\n",
              "      display:flex;\n",
              "      flex-wrap:wrap;\n",
              "      gap: 12px;\n",
              "    }\n",
              "\n",
              "    .colab-df-convert {\n",
              "      background-color: #E8F0FE;\n",
              "      border: none;\n",
              "      border-radius: 50%;\n",
              "      cursor: pointer;\n",
              "      display: none;\n",
              "      fill: #1967D2;\n",
              "      height: 32px;\n",
              "      padding: 0 0 0 0;\n",
              "      width: 32px;\n",
              "    }\n",
              "\n",
              "    .colab-df-convert:hover {\n",
              "      background-color: #E2EBFA;\n",
              "      box-shadow: 0px 1px 2px rgba(60, 64, 67, 0.3), 0px 1px 3px 1px rgba(60, 64, 67, 0.15);\n",
              "      fill: #174EA6;\n",
              "    }\n",
              "\n",
              "    [theme=dark] .colab-df-convert {\n",
              "      background-color: #3B4455;\n",
              "      fill: #D2E3FC;\n",
              "    }\n",
              "\n",
              "    [theme=dark] .colab-df-convert:hover {\n",
              "      background-color: #434B5C;\n",
              "      box-shadow: 0px 1px 3px 1px rgba(0, 0, 0, 0.15);\n",
              "      filter: drop-shadow(0px 1px 2px rgba(0, 0, 0, 0.3));\n",
              "      fill: #FFFFFF;\n",
              "    }\n",
              "  </style>\n",
              "\n",
              "      <script>\n",
              "        const buttonEl =\n",
              "          document.querySelector('#df-e448e27f-b77b-4843-b876-d03fa2d447a5 button.colab-df-convert');\n",
              "        buttonEl.style.display =\n",
              "          google.colab.kernel.accessAllowed ? 'block' : 'none';\n",
              "\n",
              "        async function convertToInteractive(key) {\n",
              "          const element = document.querySelector('#df-e448e27f-b77b-4843-b876-d03fa2d447a5');\n",
              "          const dataTable =\n",
              "            await google.colab.kernel.invokeFunction('convertToInteractive',\n",
              "                                                     [key], {});\n",
              "          if (!dataTable) return;\n",
              "\n",
              "          const docLinkHtml = 'Like what you see? Visit the ' +\n",
              "            '<a target=\"_blank\" href=https://colab.research.google.com/notebooks/data_table.ipynb>data table notebook</a>'\n",
              "            + ' to learn more about interactive tables.';\n",
              "          element.innerHTML = '';\n",
              "          dataTable['output_type'] = 'display_data';\n",
              "          await google.colab.output.renderOutput(dataTable, element);\n",
              "          const docLink = document.createElement('div');\n",
              "          docLink.innerHTML = docLinkHtml;\n",
              "          element.appendChild(docLink);\n",
              "        }\n",
              "      </script>\n",
              "    </div>\n",
              "  </div>\n",
              "  "
            ]
          },
          "metadata": {},
          "execution_count": 6
        }
      ]
    },
    {
      "cell_type": "code",
      "source": [
        "# Assigning the label values to y\n",
        "y = data['label']\n",
        "\n",
        "# Confirming if the right value have been assigned to y\n",
        "y.head()"
      ],
      "metadata": {
        "colab": {
          "base_uri": "https://localhost:8080/"
        },
        "id": "06gmBNDccsG-",
        "outputId": "c10c5426-45f2-4aaa-c072-0d75100ad493"
      },
      "execution_count": null,
      "outputs": [
        {
          "output_type": "execute_result",
          "data": {
            "text/plain": [
              "0       vortex\n",
              "1       vortex\n",
              "2       vortex\n",
              "3    no_vortex\n",
              "4       vortex\n",
              "Name: label, dtype: object"
            ]
          },
          "metadata": {},
          "execution_count": 7
        }
      ]
    },
    {
      "cell_type": "code",
      "source": [
        "from sklearn.preprocessing import LabelEncoder\n",
        "\n",
        "le=LabelEncoder()\n",
        "\n",
        "y=le.fit_transform(y)"
      ],
      "metadata": {
        "id": "LUHixcxfeF0l"
      },
      "execution_count": null,
      "outputs": []
    },
    {
      "cell_type": "code",
      "source": [
        "# Import train_test_split function\n",
        "from sklearn.model_selection import train_test_split\n",
        "\n",
        "# Split dataset into training set and test set\n",
        "X_train, X_test, y_train, y_test = train_test_split(X, y, test_size=0.3)"
      ],
      "metadata": {
        "id": "nnhiTb9PdRsU"
      },
      "execution_count": null,
      "outputs": []
    },
    {
      "cell_type": "code",
      "source": [
        "# Import the Random Forest Classifier\n",
        "from sklearn.ensemble import RandomForestClassifier\n",
        "\n",
        "# Import the AdaBoost classifier\n",
        "from sklearn.ensemble import AdaBoostClassifier\n",
        "\n",
        "# Import the XGBoost Classifier \n",
        "from xgboost import XGBClassifier\n",
        "\n",
        "#Import the Light Gradient Boost Classifier\n",
        "import lightgbm as lgb\n",
        "\n",
        "# Import the Voting CLassifier\n",
        "from sklearn.ensemble import VotingClassifier\n",
        "\n",
        "# Importing the necessary tools to check how the clasifiers performed\n",
        "from sklearn.metrics import classification_report\n",
        "from sklearn.metrics import accuracy_score\n",
        "\n",
        "\n",
        "# Creating classifer objects and assigning them with the appropriate parameters\n",
        "clf1 = AdaBoostClassifier(n_estimators=100, learning_rate=1, random_state=0)\n",
        "clf2 = RandomForestClassifier(n_estimators=100, max_depth=1, random_state=0)\n",
        "clf3 = XGBClassifier(n_estimators=100, learning_rate=1, random_state=0)\n",
        "clf4 = lgb.LGBMClassifier(max_depth=1, learning_rate=1)\n",
        "\n",
        "# Training the Classifers using the fit method\n",
        "model1 = clf1.fit(X_train, y_train)\n",
        "model2 = clf2.fit(X_train, y_train)\n",
        "model3 = clf3.fit(X_train, y_train)\n",
        "model4 = clf4.fit(X_train, y_train)\n",
        "\n",
        "# Assigning the fitted models to the voting classifier and then fitting the voting classifier\n",
        "eclf = VotingClassifier( estimators=[('abc', model1), ('rf', model2), ('xgb', model3)],voting='hard')\n",
        "model5 = eclf.fit(X_train, y_train)\n",
        "\n",
        "\n",
        "# Determining the accuracy of each model \n",
        "for clf, label in zip([model1, model2, model3, model4, model5], ['AdaBoost Classifier', 'Random Forest', 'XGBoost Classifier','LightGBM Classifier', 'Ensemble']):\n",
        "  y_pred = clf.predict(X_test)\n",
        "  print(clf, accuracy_score(y_test, y_pred))"
      ],
      "metadata": {
        "colab": {
          "base_uri": "https://localhost:8080/"
        },
        "id": "6mtxaW_TdUGC",
        "outputId": "0f3dc012-8194-4457-d0b5-b58ac959ca4b"
      },
      "execution_count": null,
      "outputs": [
        {
          "output_type": "stream",
          "name": "stdout",
          "text": [
            "AdaBoostClassifier(learning_rate=1, n_estimators=100, random_state=0) 0.7272727272727273\n",
            "RandomForestClassifier(max_depth=1, random_state=0) 0.6363636363636364\n",
            "XGBClassifier(learning_rate=1) 0.9090909090909091\n",
            "LGBMClassifier(learning_rate=1, max_depth=1) 0.6363636363636364\n",
            "VotingClassifier(estimators=[('abc',\n",
            "                              AdaBoostClassifier(learning_rate=1,\n",
            "                                                 n_estimators=100,\n",
            "                                                 random_state=0)),\n",
            "                             ('rf',\n",
            "                              RandomForestClassifier(max_depth=1,\n",
            "                                                     random_state=0)),\n",
            "                             ('xgb', XGBClassifier(learning_rate=1))]) 0.7272727272727273\n"
          ]
        }
      ]
    },
    {
      "cell_type": "code",
      "source": [
        "#Predict the response for test dataset\n",
        "y_pred = model5.predict(X_test)\n",
        "\n",
        "print(classification_report(y_test, y_pred))"
      ],
      "metadata": {
        "id": "yb69zhriMlT-",
        "colab": {
          "base_uri": "https://localhost:8080/"
        },
        "outputId": "c79bfe86-c15b-4a80-db72-271208a28382"
      },
      "execution_count": null,
      "outputs": [
        {
          "output_type": "stream",
          "name": "stdout",
          "text": [
            "              precision    recall  f1-score   support\n",
            "\n",
            "           0       1.00      0.25      0.40         4\n",
            "           1       0.70      1.00      0.82         7\n",
            "\n",
            "    accuracy                           0.73        11\n",
            "   macro avg       0.85      0.62      0.61        11\n",
            "weighted avg       0.81      0.73      0.67        11\n",
            "\n"
          ]
        }
      ]
    },
    {
      "cell_type": "code",
      "source": [
        "for i in y_test:\n",
        "  print(i)"
      ],
      "metadata": {
        "colab": {
          "base_uri": "https://localhost:8080/"
        },
        "id": "DWLd1TmpeoyE",
        "outputId": "856cbbda-ac74-421c-9a7a-c7d51ab74b4a"
      },
      "execution_count": null,
      "outputs": [
        {
          "output_type": "stream",
          "name": "stdout",
          "text": [
            "0\n",
            "1\n",
            "1\n",
            "0\n",
            "1\n",
            "1\n",
            "0\n",
            "1\n",
            "0\n",
            "1\n",
            "1\n"
          ]
        }
      ]
    },
    {
      "cell_type": "code",
      "source": [
        "n=[]\n",
        "for row in X_test.itertuples():\n",
        "  n.append(row[0]+1)\n",
        "  \n",
        "for a in range(len(n)):\n",
        "  print('Number', n[a],'is a', y_pred[a])"
      ],
      "metadata": {
        "colab": {
          "base_uri": "https://localhost:8080/"
        },
        "id": "9N_6Kzq3Sgmp",
        "outputId": "0fa72d7f-7b2a-429e-d86b-7dc5f39a3325"
      },
      "execution_count": null,
      "outputs": [
        {
          "output_type": "stream",
          "name": "stdout",
          "text": [
            "Number 4 is a 1\n",
            "Number 1 is a 1\n",
            "Number 21 is a 1\n",
            "Number 23 is a 1\n",
            "Number 13 is a 1\n",
            "Number 11 is a 1\n",
            "Number 29 is a 0\n",
            "Number 7 is a 1\n",
            "Number 8 is a 1\n",
            "Number 12 is a 1\n",
            "Number 36 is a 1\n"
          ]
        }
      ]
    },
    {
      "cell_type": "code",
      "source": [
        "# import the required metrics to plot validation curve\n",
        "from sklearn.model_selection import validation_curve\n",
        "\n",
        "# import the plotting library to visualize our learning curve\n",
        "import matplotlib.pyplot as plt\n",
        " \n",
        "# arranging the parameters that have to be tested\n",
        "param_range = np.arange(1, 101)\n",
        "\n",
        "# obtaining training and testing scores to plot on the graph\n",
        "train_score, test_score = validation_curve(model3, X, y, param_name = \"n_estimators\", param_range=param_range, cv = 5, scoring = \"accuracy\")\n",
        " \n",
        "# Calculating mean and standard deviation of training score\n",
        "mean_train_score = np.mean(train_score, axis = 1)\n",
        "std_train_score = np.std(train_score, axis = 1)\n",
        " \n",
        "# Calculating mean and standard deviation of testing score\n",
        "mean_test_score = np.mean(test_score, axis = 1)\n",
        "std_test_score = np.std(test_score, axis = 1)\n",
        " \n",
        "# Plot mean accuracy scores for training and testing scores\n",
        "plt.plot(param_range, mean_train_score, label = \"Training Score\", color = 'b')\n",
        "plt.plot(param_range, mean_test_score, label = \"Cross Validation Score\", color = 'g')\n",
        " \n",
        "# Creating the plot\n",
        "plt.title(\"Validation Curve with XGBBoost Classifier\")\n",
        "plt.xlabel(\"Number of Estimators\")\n",
        "plt.ylabel(\"Accuracy\")\n",
        "plt.tight_layout()\n",
        "plt.legend(loc = 'best')\n",
        "plt.show()"
      ],
      "metadata": {
        "colab": {
          "base_uri": "https://localhost:8080/",
          "height": 297
        },
        "id": "K_LuihfQPCHc",
        "outputId": "b416ccc9-e256-421c-a649-d486a377e328"
      },
      "execution_count": null,
      "outputs": [
        {
          "output_type": "display_data",
          "data": {
            "text/plain": [
              "<Figure size 432x288 with 1 Axes>"
            ],
            "image/png": "[encoded data removed]"
          },
          "metadata": {
            "needs_background": "light"
          }
        }
      ]
    },
    {
      "cell_type": "code",
      "source": [
        "from sklearn.metrics import confusion_matrix \n",
        "\n",
        "cf_matrix = confusion_matrix(y_test, y_pred)\n",
        "print(cf_matrix)\n"
      ],
      "metadata": {
        "colab": {
          "base_uri": "https://localhost:8080/"
        },
        "id": "NFUK7j-VqIj7",
        "outputId": "3a617a4e-28a7-419b-c26c-fa89aff649b6"
      },
      "execution_count": null,
      "outputs": [
        {
          "output_type": "stream",
          "name": "stdout",
          "text": [
            "[[3 0]\n",
            " [0 8]]\n"
          ]
        }
      ]
    },
    {
      "cell_type": "code",
      "source": [
        "import seaborn as sns\n",
        "group_names = ['True Neg', 'False Pos', 'False Neg', 'True Pos']\n",
        "group_counts = [\"{0:0.0f}\".format(value) for value in cf_matrix.flatten()]\n",
        "group_percentages = [\"{0:.2%}\".format(value) for value in cf_matrix.flatten()/np.sum(cf_matrix)]\n",
        "labels = [f\"{v1}\\n{v2}\\n{v3}\" for v1, v2, v3 in zip(group_names,group_counts,group_percentages)]\n",
        "labels = np.asarray(labels).reshape(2,2)\n",
        "sns.heatmap(cf_matrix, annot=labels, fmt='', cmap='Blues')"
      ],
      "metadata": {
        "colab": {
          "base_uri": "https://localhost:8080/",
          "height": 287
        },
        "id": "zLtdSzImfrpX",
        "outputId": "a9232495-cd3c-4b4b-becf-8de0e778245f"
      },
      "execution_count": null,
      "outputs": [
        {
          "output_type": "execute_result",
          "data": {
            "text/plain": [
              "<matplotlib.axes._subplots.AxesSubplot at 0x7fbf3e93f910>"
            ]
          },
          "metadata": {},
          "execution_count": 48
        },
        {
          "output_type": "display_data",
          "data": {
            "text/plain": [
              "<Figure size 432x288 with 2 Axes>"
            ],
            "image/png": "[encoded data removed]"
          },
          "metadata": {
            "needs_background": "light"
          }
        }
      ]
    },
    {
      "cell_type": "code",
      "source": [
        "tn, fp, fn, tp = confusion_matrix(y_test, y_pred).ravel()\n",
        "Accuracy = (tn+tp)*100/(tp+tn+fp+fn) \n",
        "print(\"Accuracy {:0.2f}%:\",(Accuracy))"
      ],
      "metadata": {
        "colab": {
          "base_uri": "https://localhost:8080/"
        },
        "id": "Bcn978RRxhbm",
        "outputId": "ef2f4069-ef36-4c04-d660-5e230b15f7c9"
      },
      "execution_count": null,
      "outputs": [
        {
          "output_type": "stream",
          "name": "stdout",
          "text": [
            "Accuracy {:0.2f}%: 100.0\n"
          ]
        }
      ]
    }
  ]
}