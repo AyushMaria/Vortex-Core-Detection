{
  "nbformat": 4,
  "nbformat_minor": 0,
  "metadata": {
    "colab": {
      "name": "Untitled5.ipynb",
      "provenance": [],
      "collapsed_sections": [],
      "authorship_tag": "ABX9TyM3Z9S+h3z1Vzzc7KEVjLqi",
      "include_colab_link": true
    },
    "kernelspec": {
      "name": "python3",
      "display_name": "Python 3"
    },
    "language_info": {
      "name": "python"
    }
  },
  "cells": [
    {
      "cell_type": "markdown",
      "metadata": {
        "id": "view-in-github",
        "colab_type": "text"
      },
      "source": [
        "<a href=\"https://colab.research.google.com/github/AyushMaria/Vortex-Detection/blob/main/Predicting%20Cores.ipynb\" target=\"_parent\"><img src=\"https://colab.research.google.com/assets/colab-badge.svg\" alt=\"Open In Colab\"/></a>"
      ]
    },
    {
      "cell_type": "code",
      "execution_count": 1,
      "metadata": {
        "id": "2cGFLIshZ1Zm"
      },
      "outputs": [],
      "source": [
        "import numpy as np # linear algebra\n",
        "import pandas as pd # data processing, CSV file I/O (e.g. pd.read_csv)\n",
        "from google.colab import drive"
      ]
    },
    {
      "cell_type": "code",
      "source": [
        "# Mount the Google Drive at mount\n",
        "mount='/content/gdrive'\n",
        "drive.mount(mount, force_remount=True)\n",
        "# Switch to the directory on the Google Drive that you want to use\n",
        "drive_root=mount + '/My Drive/Colab Notebooks/Object Detection'"
      ],
      "metadata": {
        "colab": {
          "base_uri": "https://localhost:8080/"
        },
        "id": "8rNoaGSnZ5Cc",
        "outputId": "afd8bd4a-c3c8-45b4-da22-5cbe5fe3f67f"
      },
      "execution_count": 2,
      "outputs": [
        {
          "output_type": "stream",
          "name": "stdout",
          "text": [
            "Mounted at /content/gdrive\n"
          ]
        }
      ]
    },
    {
      "cell_type": "code",
      "source": [
        "%cd $drive_root\n",
        "%pwd"
      ],
      "metadata": {
        "colab": {
          "base_uri": "https://localhost:8080/",
          "height": 55
        },
        "id": "SorlL28MaR-x",
        "outputId": "488560d8-1596-4219-c50a-cb7cf14efa87"
      },
      "execution_count": 3,
      "outputs": [
        {
          "output_type": "stream",
          "name": "stdout",
          "text": [
            "/content/gdrive/My Drive/Colab Notebooks/Object Detection\n"
          ]
        },
        {
          "output_type": "execute_result",
          "data": {
            "text/plain": [
              "'/content/gdrive/My Drive/Colab Notebooks/Object Detection'"
            ],
            "application/vnd.google.colaboratory.intrinsic+json": {
              "type": "string"
            }
          },
          "metadata": {},
          "execution_count": 3
        }
      ]
    },
    {
      "cell_type": "code",
      "source": [
        "data = pd.read_csv('train.csv')\n",
        "print(data)"
      ],
      "metadata": {
        "colab": {
          "base_uri": "https://localhost:8080/"
        },
        "id": "zHiTvdyJaDjz",
        "outputId": "0c921a12-4756-4ee3-eb87-dac82bd58b0c"
      },
      "execution_count": 16,
      "outputs": [
        {
          "output_type": "stream",
          "name": "stdout",
          "text": [
            "    ID  contourArea  areaPercDiff  aspectRatio  momentLocDiff      label\n",
            "0    1        831.5     42.037412     1.069767      28.262772     vortex\n",
            "1    2        812.0     29.271810     1.921053      40.617813     vortex\n",
            "2    3        505.0     34.996535     0.948718       7.309586     vortex\n",
            "3    4        402.5     46.264368     0.966667      31.453003     vortex\n",
            "4    5        538.5     26.268293     1.219512      38.670059     vortex\n",
            "5    6        481.5     23.533724     2.129032      89.189682  no_vortex\n",
            "6    7        511.0     24.926829     0.820000       8.260605     vortex\n",
            "7    8        464.5     63.804945     1.076923      55.841400     vortex\n",
            "8    9        212.0     39.259259     2.400000      22.646210     vortex\n",
            "9   10       1945.5     57.186949     1.928571      58.581680     vortex\n",
            "10  11       1892.0     23.679599     0.904255       9.992249     vortex\n",
            "11  12        434.0     73.063973     1.833333      53.368660     vortex\n",
            "12  13        216.5     40.926276     1.000000      55.204773     vortex\n",
            "13  14        511.0     62.622549     1.416667       7.006836     vortex\n"
          ]
        }
      ]
    },
    {
      "cell_type": "code",
      "source": [
        "data.info()"
      ],
      "metadata": {
        "colab": {
          "base_uri": "https://localhost:8080/"
        },
        "id": "9oMsqxMldfHq",
        "outputId": "b5437b5b-e0fc-4491-df88-b225d7a160dc"
      },
      "execution_count": 13,
      "outputs": [
        {
          "output_type": "stream",
          "name": "stdout",
          "text": [
            "<class 'pandas.core.frame.DataFrame'>\n",
            "RangeIndex: 14 entries, 0 to 13\n",
            "Data columns (total 6 columns):\n",
            " #   Column         Non-Null Count  Dtype  \n",
            "---  ------         --------------  -----  \n",
            " 0   ID             14 non-null     int64  \n",
            " 1   contourArea    14 non-null     float64\n",
            " 2   areaPercDiff   14 non-null     float64\n",
            " 3   aspectRatio    14 non-null     float64\n",
            " 4   momentLocDiff  14 non-null     float64\n",
            " 5   label          14 non-null     object \n",
            "dtypes: float64(4), int64(1), object(1)\n",
            "memory usage: 800.0+ bytes\n"
          ]
        }
      ]
    },
    {
      "cell_type": "code",
      "source": [
        "X = data[['contourArea','areaPercDiff','aspectRatio','momentLocDiff']]\n",
        "print(X)"
      ],
      "metadata": {
        "colab": {
          "base_uri": "https://localhost:8080/"
        },
        "id": "Tudc4NF-cTx6",
        "outputId": "3f089fcb-c2ca-4dd3-86ff-a0551740a1e5"
      },
      "execution_count": 38,
      "outputs": [
        {
          "output_type": "stream",
          "name": "stdout",
          "text": [
            "    contourArea  areaPercDiff  aspectRatio  momentLocDiff\n",
            "0         831.5     42.037412     1.069767      28.262772\n",
            "1         812.0     29.271810     1.921053      40.617813\n",
            "2         505.0     34.996535     0.948718       7.309586\n",
            "3         402.5     46.264368     0.966667      31.453003\n",
            "4         538.5     26.268293     1.219512      38.670059\n",
            "5         481.5     23.533724     2.129032      89.189682\n",
            "6         511.0     24.926829     0.820000       8.260605\n",
            "7         464.5     63.804945     1.076923      55.841400\n",
            "8         212.0     39.259259     2.400000      22.646210\n",
            "9        1945.5     57.186949     1.928571      58.581680\n",
            "10       1892.0     23.679599     0.904255       9.992249\n",
            "11        434.0     73.063973     1.833333      53.368660\n",
            "12        216.5     40.926276     1.000000      55.204773\n",
            "13        511.0     62.622549     1.416667       7.006836\n"
          ]
        }
      ]
    },
    {
      "cell_type": "code",
      "source": [
        "y = data['label']\n",
        "\n",
        "print(y)"
      ],
      "metadata": {
        "colab": {
          "base_uri": "https://localhost:8080/"
        },
        "id": "06gmBNDccsG-",
        "outputId": "4ed31c3a-7925-4062-9094-37543059ea53"
      },
      "execution_count": 39,
      "outputs": [
        {
          "output_type": "stream",
          "name": "stdout",
          "text": [
            "0        vortex\n",
            "1        vortex\n",
            "2        vortex\n",
            "3        vortex\n",
            "4        vortex\n",
            "5     no_vortex\n",
            "6        vortex\n",
            "7        vortex\n",
            "8        vortex\n",
            "9        vortex\n",
            "10       vortex\n",
            "11       vortex\n",
            "12       vortex\n",
            "13       vortex\n",
            "Name: label, dtype: object\n"
          ]
        }
      ]
    },
    {
      "cell_type": "code",
      "source": [
        "from sklearn.preprocessing import LabelEncoder\n",
        "\n",
        "le=LabelEncoder()\n",
        "\n",
        "y=le.fit_transform(y)"
      ],
      "metadata": {
        "id": "feQNCr43dFQd"
      },
      "execution_count": 40,
      "outputs": []
    },
    {
      "cell_type": "code",
      "source": [
        "# Import train_test_split function\n",
        "from sklearn.model_selection import train_test_split\n",
        "\n",
        "# Split dataset into training set and test set\n",
        "X_train, X_test, y_train, y_test = train_test_split(X, y, test_size=0.3)"
      ],
      "metadata": {
        "id": "nnhiTb9PdRsU"
      },
      "execution_count": 41,
      "outputs": []
    },
    {
      "cell_type": "code",
      "source": [
        "# Import the AdaBoost classifier\n",
        "from sklearn.ensemble import AdaBoostClassifier\n",
        "import matplotlib.pyplot as plt\n",
        "\n",
        "# Create adaboost classifer object\n",
        "abc = AdaBoostClassifier(n_estimators=50, learning_rate=1, random_state=0)\n",
        "\n",
        "# Train Adaboost Classifer\n",
        "model1 = abc.fit(X_train, y_train)\n",
        "\n",
        "\n",
        "#Predict the response for test dataset\n",
        "y_pred = model1.predict(X_test)\n",
        "print(X_test)\n",
        "\n",
        "print(y_pred)"
      ],
      "metadata": {
        "colab": {
          "base_uri": "https://localhost:8080/"
        },
        "id": "6mtxaW_TdUGC",
        "outputId": "de39a263-b448-40cb-9641-9f8da5571166"
      },
      "execution_count": 42,
      "outputs": [
        {
          "output_type": "stream",
          "name": "stdout",
          "text": [
            "    contourArea  areaPercDiff  aspectRatio  momentLocDiff\n",
            "13        511.0     62.622549     1.416667       7.006836\n",
            "10       1892.0     23.679599     0.904255       9.992249\n",
            "6         511.0     24.926829     0.820000       8.260605\n",
            "0         831.5     42.037412     1.069767      28.262772\n",
            "2         505.0     34.996535     0.948718       7.309586\n",
            "[1 0 1 1 1]\n"
          ]
        }
      ]
    },
    {
      "cell_type": "code",
      "source": [
        "#import scikit-learn metrics module for accuracy calculation\n",
        "from sklearn.metrics import accuracy_score\n",
        "\n",
        "\n",
        "# calculate and print model accuracy\n",
        "print(\"AdaBoost Classifier Model Accuracy:\", accuracy_score(y_test, y_pred))"
      ],
      "metadata": {
        "colab": {
          "base_uri": "https://localhost:8080/"
        },
        "id": "j9PyWvuodYZ3",
        "outputId": "eced226d-f9b3-4f56-b877-39b12a8d57ff"
      },
      "execution_count": 43,
      "outputs": [
        {
          "output_type": "stream",
          "name": "stdout",
          "text": [
            "AdaBoost Classifier Model Accuracy: 0.8\n"
          ]
        }
      ]
    }
  ]
}